{
 "cells": [
  {
   "cell_type": "markdown",
   "metadata": {},
   "source": [
    "Создайте программу, хранящую информацию о великих баскетболистах. Нужно хранить ФИО баскетболиста и\n",
    "его рост. Требуется реализовать возможность добавления,\n",
    "удаления, поиска, замены данных. Используйте словарь\n",
    "для хранения информации."
   ]
  },
  {
   "cell_type": "code",
   "execution_count": 1,
   "metadata": {},
   "outputs": [
    {
     "name": "stdout",
     "output_type": "stream",
     "text": [
      "{'Майкл Джордан': 198, 'Коби Брайант': 198}\n",
      "198\n",
      "{'Майкл Джордан': 199}\n"
     ]
    }
   ],
   "source": [
    "basketball_players = {}\n",
    "\n",
    "def add_player(name, height):\n",
    "    basketball_players[name] = height\n",
    "\n",
    "def delete_player(name):\n",
    "    basketball_players.pop(name, None)\n",
    "\n",
    "def find_player(name):\n",
    "    return basketball_players.get(name, \"Игрок не найден\")\n",
    "\n",
    "def update_player(name, new_height):\n",
    "    if name in basketball_players:\n",
    "        basketball_players[name] = new_height\n",
    "    else:\n",
    "        print(\"Игрок не найден\")\n",
    "\n",
    "# Пример работы\n",
    "add_player(\"Майкл Джордан\", 198)\n",
    "add_player(\"Коби Брайант\", 198)\n",
    "print(basketball_players)\n",
    "delete_player(\"Коби Брайант\")\n",
    "print(find_player(\"Майкл Джордан\"))\n",
    "update_player(\"Майкл Джордан\", 199)\n",
    "print(basketball_players)\n"
   ]
  },
  {
   "cell_type": "markdown",
   "metadata": {},
   "source": [
    "Создайте программу «Англо-французский словарь».\n",
    "Нужно хранить слово на английском языке и его перевод\n",
    "на французский. Требуется реализовать возможность добавления, удаления, поиска, замены данных. Используйте\n",
    "словарь для хранения информации."
   ]
  },
  {
   "cell_type": "code",
   "execution_count": 2,
   "metadata": {},
   "outputs": [
    {
     "name": "stdout",
     "output_type": "stream",
     "text": [
      "{'cat': 'chat', 'dog': 'chien'}\n",
      "chat\n",
      "{'cat': 'minou'}\n"
     ]
    }
   ],
   "source": [
    "dictionary = {}\n",
    "\n",
    "def add_word(english, french):\n",
    "    dictionary[english] = french\n",
    "\n",
    "def delete_word(english):\n",
    "    dictionary.pop(english, None)\n",
    "\n",
    "def find_word(english):\n",
    "    return dictionary.get(english, \"Слово не найдено\")\n",
    "\n",
    "def update_word(english, new_french):\n",
    "    if english in dictionary:\n",
    "        dictionary[english] = new_french\n",
    "    else:\n",
    "        print(\"Слово не найдено\")\n",
    "\n",
    "# Пример работы\n",
    "add_word(\"cat\", \"chat\")\n",
    "add_word(\"dog\", \"chien\")\n",
    "print(dictionary)\n",
    "delete_word(\"dog\")\n",
    "print(find_word(\"cat\"))\n",
    "update_word(\"cat\", \"minou\")\n",
    "print(dictionary)\n"
   ]
  },
  {
   "cell_type": "markdown",
   "metadata": {},
   "source": [
    "Создайте программу «Фирма». Нужно хранить информацию о человеке: ФИО, телефон, рабочий email,\n",
    "название должности, номер кабинета, skype. Требуется\n",
    "реализовать возможность добавления, удаления, поиска, замены данных. Используйте словарь для хранения\n",
    "информации."
   ]
  },
  {
   "cell_type": "code",
   "execution_count": 3,
   "metadata": {},
   "outputs": [
    {
     "name": "stdout",
     "output_type": "stream",
     "text": [
      "{'Иван Иванов': {'Телефон': '123-456', 'Email': 'ivan@mail.com', 'Должность': 'Менеджер', 'Кабинет': '101', 'Skype': 'ivan_skype'}}\n",
      "Сотрудник не найден\n"
     ]
    }
   ],
   "source": [
    "employees = {}\n",
    "\n",
    "def add_employee(name, phone, email, position, office, skype):\n",
    "    employees[name] = {\n",
    "        \"Телефон\": phone,\n",
    "        \"Email\": email,\n",
    "        \"Должность\": position,\n",
    "        \"Кабинет\": office,\n",
    "        \"Skype\": skype\n",
    "    }\n",
    "\n",
    "def delete_employee(name):\n",
    "    employees.pop(name, None)\n",
    "\n",
    "def find_employee(name):\n",
    "    return employees.get(name, \"Сотрудник не найден\")\n",
    "\n",
    "def update_employee(name, key, value):\n",
    "    if name in employees and key in employees[name]:\n",
    "        employees[name][key] = value\n",
    "    else:\n",
    "        print(\"Сотрудник или поле не найдено\")\n",
    "\n",
    "# Пример работы\n",
    "add_employee(\"Иван Иванов\", \"123-456\", \"ivan@mail.com\", \"Менеджер\", \"101\", \"ivan_skype\")\n",
    "print(employees)\n",
    "delete_employee(\"Иван Иванов\")\n",
    "print(find_employee(\"Иван Иванов\"))\n"
   ]
  },
  {
   "cell_type": "markdown",
   "metadata": {},
   "source": [
    "Создайте программу «Книжная коллекция». Нужно\n",
    "хранить информацию о книгах: автор, название книги,\n",
    "жанр, год выпуска, количество страниц, издательство.\n",
    "Требуется реализовать возможность добавления, удаления, поиска, замены данных. Используйте словарь для\n",
    "хранения информации"
   ]
  },
  {
   "cell_type": "code",
   "execution_count": 5,
   "metadata": {},
   "outputs": [
    {
     "name": "stdout",
     "output_type": "stream",
     "text": [
      "{'Война и мир': {'Автор': 'Лев Толстой', 'Жанр': 'Роман', 'Год': 1869, 'Страницы': 1225, 'Издательство': 'Издательство А'}}\n",
      "Книга не найдена\n"
     ]
    }
   ],
   "source": [
    "books = {}\n",
    "\n",
    "def add_book(author, title, genre, year, pages, publisher):\n",
    "    books[title] = {\n",
    "        \"Автор\": author,\n",
    "        \"Жанр\": genre,\n",
    "        \"Год\": year,\n",
    "        \"Страницы\": pages,\n",
    "        \"Издательство\": publisher\n",
    "    }\n",
    "\n",
    "def delete_book(title):\n",
    "    books.pop(title, None)\n",
    "\n",
    "def find_book(title):\n",
    "    return books.get(title, \"Книга не найдена\")\n",
    "\n",
    "def update_book(title, key, value):\n",
    "    if title in books and key in books[title]:\n",
    "        books[title][key] = value\n",
    "    else:\n",
    "        print(\"Книга или поле не найдено\")\n",
    "\n",
    "# Пример работы\n",
    "add_book(\"Лев Толстой\", \"Война и мир\", \"Роман\", 1869, 1225, \"Издательство А\")\n",
    "print(books)\n",
    "delete_book(\"Война и мир\")\n",
    "print(find_book(\"Война и мир\"))\n"
   ]
  }
 ],
 "metadata": {
  "kernelspec": {
   "display_name": "Python 3",
   "language": "python",
   "name": "python3"
  },
  "language_info": {
   "codemirror_mode": {
    "name": "ipython",
    "version": 3
   },
   "file_extension": ".py",
   "mimetype": "text/x-python",
   "name": "python",
   "nbconvert_exporter": "python",
   "pygments_lexer": "ipython3",
   "version": "3.12.6"
  }
 },
 "nbformat": 4,
 "nbformat_minor": 2
}
