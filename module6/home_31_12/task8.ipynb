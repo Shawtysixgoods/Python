{
 "cells": [
  {
   "cell_type": "markdown",
   "metadata": {},
   "source": [
    "Задание 1: Декоратор timer\n",
    "В этом задании необходимо создать декоратор timer, который измеряет и выводит время выполнения функции. Декоратор оборачивает указанную функцию и, перед её выполнением, записывает время начала. После завершения работы функции он вычисляет и выводит на экран затраченное время. Это полезно для анализа производительности функций."
   ]
  },
  {
   "cell_type": "code",
   "execution_count": 1,
   "metadata": {},
   "outputs": [
    {
     "name": "stdout",
     "output_type": "stream",
     "text": [
      "Время выполнения функции: 2.0012 секунд\n"
     ]
    }
   ],
   "source": [
    "import time\n",
    "# a\n",
    "def timer(func):\n",
    "    def wrapper(*args, **kwargs):\n",
    "        start_time = time.time()\n",
    "        result = func(*args, **kwargs)\n",
    "        end_time = time.time()\n",
    "        print(f\"Время выполнения функции: {end_time - start_time:.4f} секунд\")\n",
    "        return result\n",
    "    return wrapper\n",
    "\n",
    "@timer\n",
    "def my_function():\n",
    "    time.sleep(2)\n",
    "\n",
    "# Проверка\n",
    "my_function()\n"
   ]
  },
  {
   "cell_type": "markdown",
   "metadata": {},
   "source": [
    "Задание 2: Декоратор retry\n",
    "Требуется создать декоратор retry, который повторяет выполнение функции в случае возникновения исключений. Декоратор должен принимать параметр max_retries, задающий максимальное количество попыток. Если за указанное число попыток функция не выполнится успешно, декоратор выбрасывает исключение. Это используется, например, для обработки нестабильных операций, таких как сетевые запросы."
   ]
  },
  {
   "cell_type": "code",
   "execution_count": 6,
   "metadata": {},
   "outputs": [
    {
     "name": "stdout",
     "output_type": "stream",
     "text": [
      "Попытка 1: Ошибка - Случайная ошибка\n",
      "Попытка 2: Ошибка - Случайная ошибка\n",
      "Успешно\n"
     ]
    }
   ],
   "source": [
    "import random\n",
    "\n",
    "def retry(max_retries):\n",
    "    def decorator(func):\n",
    "        def wrapper(*args, **kwargs):\n",
    "            attempts = 0\n",
    "            while attempts < max_retries:\n",
    "                try:\n",
    "                    return func(*args, **kwargs)\n",
    "                except Exception as e:\n",
    "                    attempts += 1\n",
    "                    print(f\"Попытка {attempts}: Ошибка - {e}\")\n",
    "            raise Exception(\"Превышено максимальное количество попыток\")\n",
    "        return wrapper\n",
    "    return decorator\n",
    "\n",
    "@retry(max_retries=3)\n",
    "def flaky_function():\n",
    "    if random.randint(0, 1) == 0:\n",
    "        raise ValueError(\"Случайная ошибка\")\n",
    "    return \"Успешно\"\n",
    "\n",
    "# Проверка\n",
    "print(flaky_function())\n"
   ]
  },
  {
   "cell_type": "markdown",
   "metadata": {},
   "source": [
    "Задание 3: Замыкание counter\n",
    "Задание предполагает реализацию функции counter, которая возвращает вложенную функцию. Эта вложенная функция при каждом вызове увеличивает счётчик вызовов на 1 и возвращает его текущее значение. Используется механизм замыкания, чтобы сохранять значение счётчика между вызовами. Такое поведение может быть полезно для отслеживания количества вызовов функций."
   ]
  },
  {
   "cell_type": "code",
   "execution_count": 7,
   "metadata": {},
   "outputs": [
    {
     "name": "stdout",
     "output_type": "stream",
     "text": [
      "1\n",
      "2\n",
      "3\n"
     ]
    }
   ],
   "source": [
    "def counter():\n",
    "    count = 0\n",
    "\n",
    "    def inner():\n",
    "        nonlocal count\n",
    "        count += 1\n",
    "        return count\n",
    "\n",
    "    return inner\n",
    "\n",
    "# Проверка\n",
    "counter_func = counter()\n",
    "print(counter_func())  # Вывод: 1\n",
    "print(counter_func())  # Вывод: 2\n",
    "print(counter_func())  # Вывод: 3\n"
   ]
  },
  {
   "cell_type": "markdown",
   "metadata": {},
   "source": [
    "Задание 4: Замыкание make_multiplier\n",
    "Необходимо создать функцию make_multiplier, которая принимает одно число и возвращает вложенную функцию. Вложенная функция должна умножать переданное ей число на значение, переданное в make_multiplier. Это также реализуется с использованием замыкания и может применяться для создания специализированных функций, выполняющих умножение на заранее заданное число."
   ]
  },
  {
   "cell_type": "code",
   "execution_count": 8,
   "metadata": {},
   "outputs": [
    {
     "name": "stdout",
     "output_type": "stream",
     "text": [
      "15\n",
      "30\n"
     ]
    }
   ],
   "source": [
    "def make_multiplier(n):\n",
    "    def multiplier(x):\n",
    "        return x * n\n",
    "    return multiplier\n",
    "\n",
    "# Проверка\n",
    "multiply_by_3 = make_multiplier(3)\n",
    "print(multiply_by_3(5))  # Вывод: 15\n",
    "print(multiply_by_3(10))  # Вывод: 30\n"
   ]
  }
 ],
 "metadata": {
  "kernelspec": {
   "display_name": "Python 3",
   "language": "python",
   "name": "python3"
  },
  "language_info": {
   "codemirror_mode": {
    "name": "ipython",
    "version": 3
   },
   "file_extension": ".py",
   "mimetype": "text/x-python",
   "name": "python",
   "nbconvert_exporter": "python",
   "pygments_lexer": "ipython3",
   "version": "3.12.6"
  }
 },
 "nbformat": 4,
 "nbformat_minor": 2
}
