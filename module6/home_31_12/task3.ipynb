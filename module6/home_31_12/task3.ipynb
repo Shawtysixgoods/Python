{
 "cells": [
  {
   "cell_type": "markdown",
   "metadata": {},
   "source": [
    "Дано два текстовых файла. Выяснить, совпадают ли\n",
    "их строки. Если нет, то вывести несовпадающую строку\n",
    "из каждого файла"
   ]
  },
  {
   "cell_type": "code",
   "execution_count": 3,
   "metadata": {},
   "outputs": [
    {
     "name": "stdout",
     "output_type": "stream",
     "text": [
      "Несовпадающие строки:\n",
      "Из файла 1: вцфвцф\n",
      "Из файла 2: не совпадающий элемент\n"
     ]
    }
   ],
   "source": [
    "def compare_files(file1, file2):\n",
    "    with open(file1, 'r', encoding='utf-8') as f1, open(file2, 'r', encoding='utf-8') as f2:\n",
    "        lines1 = f1.readlines()\n",
    "        lines2 = f2.readlines()\n",
    "\n",
    "    differences = [(l1.strip(), l2.strip()) for l1, l2 in zip(lines1, lines2) if l1.strip() != l2.strip()]\n",
    "    print(\"Несовпадающие строки:\")\n",
    "    for line1, line2 in differences:\n",
    "        print(f\"Из файла 1: {line1}\")\n",
    "        print(f\"Из файла 2: {line2}\")\n",
    "\n",
    "# Пример использования\n",
    "compare_files(\"file1.txt\", \"file2.txt\")\n"
   ]
  },
  {
   "cell_type": "markdown",
   "metadata": {},
   "source": [
    "Дан текстовый файл. Необходимо создать новый файл\n",
    "и записать в него следующую статистику по исходному\n",
    "файлу:\n",
    "■ Количество символов;\n",
    "■ Количество строк;\n",
    "■ Количество гласных букв;\n",
    "■ Количество согласных букв;\n",
    "■ Количество цифр."
   ]
  },
  {
   "cell_type": "code",
   "execution_count": 5,
   "metadata": {},
   "outputs": [],
   "source": [
    "def file_statistics(input_file, output_file):\n",
    "    vowels = \"aeiouаеёиоуыэюя\"\n",
    "    consonants = \"bcdfghjklmnpqrstvwxyzбвгджзйклмнпрстфхцчшщ\"\n",
    "\n",
    "    with open(input_file, 'r', encoding='utf-8') as file:\n",
    "        content = file.read()\n",
    "\n",
    "    num_chars = len(content)\n",
    "    num_lines = content.count('\\n') + 1\n",
    "    num_vowels = sum(1 for char in content.lower() if char in vowels)\n",
    "    num_consonants = sum(1 for char in content.lower() if char in consonants)\n",
    "    num_digits = sum(1 for char in content if char.isdigit())\n",
    "\n",
    "    with open(output_file, 'w', encoding='utf-8') as file:\n",
    "        file.write(f\"Количество символов: {num_chars}\\n\")\n",
    "        file.write(f\"Количество строк: {num_lines}\\n\")\n",
    "        file.write(f\"Количество гласных букв: {num_vowels}\\n\")\n",
    "        file.write(f\"Количество согласных букв: {num_consonants}\\n\")\n",
    "        file.write(f\"Количество цифр: {num_digits}\\n\")\n",
    "\n",
    "# Пример использования\n",
    "file_statistics(\"file1.txt\", \"output.txt\") # смотреть output.txt\n"
   ]
  },
  {
   "cell_type": "markdown",
   "metadata": {},
   "source": [
    "Дан текстовый файл. Удалить из него последнюю\n",
    "строку. Результат записать в другой файл."
   ]
  },
  {
   "cell_type": "code",
   "execution_count": 7,
   "metadata": {},
   "outputs": [],
   "source": [
    "def remove_last_line(input_file, output_file):\n",
    "    with open(input_file, 'r', encoding='utf-8') as file:\n",
    "        lines = file.readlines()\n",
    "\n",
    "    with open(output_file, 'w', encoding='utf-8') as file:\n",
    "        file.writelines(lines[:-1])\n",
    "\n",
    "# Пример использования\n",
    "remove_last_line(\"file1.txt\", \"output2.txt\") # смотреть output2.txt\n"
   ]
  },
  {
   "cell_type": "markdown",
   "metadata": {},
   "source": [
    "Дан текстовый файл. Найти длину самой длинной\n",
    "строки."
   ]
  },
  {
   "cell_type": "code",
   "execution_count": 8,
   "metadata": {},
   "outputs": [
    {
     "name": "stdout",
     "output_type": "stream",
     "text": [
      "Длина самой длинной строки: 22\n"
     ]
    }
   ],
   "source": [
    "def longest_line_length(file_path):\n",
    "    with open(file_path, 'r', encoding='utf-8') as file:\n",
    "        longest_line = max(file, key=len)\n",
    "    print(\"Длина самой длинной строки:\", len(longest_line.strip()))\n",
    "\n",
    "# Пример использования\n",
    "longest_line_length(\"file2.txt\")\n"
   ]
  },
  {
   "cell_type": "markdown",
   "metadata": {},
   "source": [
    "Дан текстовый файл. Посчитать сколько раз в нем\n",
    "встречается заданное пользователем слово."
   ]
  },
  {
   "cell_type": "code",
   "execution_count": 11,
   "metadata": {},
   "outputs": [
    {
     "name": "stdout",
     "output_type": "stream",
     "text": [
      "Слово 'строка' встречается 1 раз.\n"
     ]
    }
   ],
   "source": [
    "def count_word_occurrences(file_path, word):\n",
    "    with open(file_path, 'r', encoding='utf-8') as file:\n",
    "        content = file.read()\n",
    "\n",
    "    count = content.lower().split().count(word.lower())\n",
    "    print(f\"Слово '{word}' встречается {count} раз.\")\n",
    "\n",
    "# Пример использования\n",
    "count_word_occurrences(\"file1.txt\", \"строка\")\n"
   ]
  },
  {
   "cell_type": "markdown",
   "metadata": {},
   "source": [
    "Дан текстовый файл. Найти и заменить в нем заданное слово. Что искать и на что заменять определяется\n",
    "пользователем."
   ]
  },
  {
   "cell_type": "code",
   "execution_count": 13,
   "metadata": {},
   "outputs": [
    {
     "name": "stdout",
     "output_type": "stream",
     "text": [
      "Слово 'строка' заменено на 'Строка'.\n"
     ]
    }
   ],
   "source": [
    "def replace_word_in_file(file_path, old_word, new_word):\n",
    "    with open(file_path, 'r', encoding='utf-8') as file:\n",
    "        content = file.read()\n",
    "\n",
    "    updated_content = content.replace(old_word, new_word)\n",
    "\n",
    "    with open(file_path, 'w', encoding='utf-8') as file:\n",
    "        file.write(updated_content)\n",
    "\n",
    "    print(f\"Слово '{old_word}' заменено на '{new_word}'.\")\n",
    "\n",
    "# Пример использования\n",
    "replace_word_in_file(\"file1.txt\", \"строка\", \"Строка\")\n"
   ]
  }
 ],
 "metadata": {
  "kernelspec": {
   "display_name": "Python 3",
   "language": "python",
   "name": "python3"
  },
  "language_info": {
   "codemirror_mode": {
    "name": "ipython",
    "version": 3
   },
   "file_extension": ".py",
   "mimetype": "text/x-python",
   "name": "python",
   "nbconvert_exporter": "python",
   "pygments_lexer": "ipython3",
   "version": "3.12.6"
  }
 },
 "nbformat": 4,
 "nbformat_minor": 2
}
