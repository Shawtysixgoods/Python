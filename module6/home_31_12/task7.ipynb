{
 "cells": [
  {
   "cell_type": "markdown",
   "metadata": {},
   "source": [
    "Задание 1: Атрибуты класса\n",
    "В этом задании необходимо создать класс Car с двумя атрибутами класса: default_color (по умолчанию \"black\") и default_model (по умолчанию \"sedan\"). Класс должен содержать конструктор, который принимает параметры color и model. Если эти параметры не переданы при создании объекта, используются значения атрибутов класса. Задача также включает создание двух объектов: одного с заданными параметрами color=\"red\" и model=\"SUV\", другого — без параметров, с использованием значений по умолчанию. После создания объектов нужно вывести на экран их свойства."
   ]
  },
  {
   "cell_type": "code",
   "execution_count": 1,
   "metadata": {},
   "outputs": [
    {
     "name": "stdout",
     "output_type": "stream",
     "text": [
      "Машина 1: Цвет - red, Модель - SUV\n",
      "Машина 2: Цвет - black, Модель - sedan\n"
     ]
    }
   ],
   "source": [
    "class Car:\n",
    "    default_color = \"black\"\n",
    "    default_model = \"sedan\"\n",
    "\n",
    "    def __init__(self, color=None, model=None):\n",
    "        self.color = color if color else Car.default_color\n",
    "        self.model = model if model else Car.default_model\n",
    "\n",
    "\n",
    "# Создаем объекты\n",
    "car1 = Car(color=\"red\", model=\"SUV\")\n",
    "car2 = Car()\n",
    "\n",
    "# Выводим атрибуты объектов\n",
    "print(f\"Машина 1: Цвет - {car1.color}, Модель - {car1.model}\")\n",
    "print(f\"Машина 2: Цвет - {car2.color}, Модель - {car2.model}\")\n"
   ]
  },
  {
   "cell_type": "markdown",
   "metadata": {},
   "source": [
    "Задание 2: Статические методы\n",
    "В этом задании необходимо создать класс MathOperations, содержащий два статических метода:\n",
    "\n",
    "add(a, b) — метод, который возвращает сумму двух чисел.\n",
    "multiply(a, b) — метод, который возвращает произведение двух чисел.\n",
    "Статические методы должны быть вызваны как через имя класса, так и через объект класса. Это демонстрирует использование статических методов для работы с данными без привязки к экземпляру класса."
   ]
  },
  {
   "cell_type": "code",
   "execution_count": 2,
   "metadata": {},
   "outputs": [
    {
     "name": "stdout",
     "output_type": "stream",
     "text": [
      "Сумма через класс: 8\n",
      "Произведение через класс: 15\n",
      "Сумма через объект: 9\n",
      "Произведение через объект: 14\n"
     ]
    }
   ],
   "source": [
    "class MathOperations:\n",
    "    @staticmethod\n",
    "    def add(a, b):\n",
    "        return a + b\n",
    "\n",
    "    @staticmethod\n",
    "    def multiply(a, b):\n",
    "        return a * b\n",
    "\n",
    "\n",
    "# Вызов методов через имя класса\n",
    "print(\"Сумма через класс:\", MathOperations.add(3, 5))\n",
    "print(\"Произведение через класс:\", MathOperations.multiply(3, 5))\n",
    "\n",
    "# Вызов методов через объект класса\n",
    "math_obj = MathOperations()\n",
    "print(\"Сумма через объект:\", math_obj.add(7, 2))\n",
    "print(\"Произведение через объект:\", math_obj.multiply(7, 2))\n"
   ]
  },
  {
   "cell_type": "markdown",
   "metadata": {},
   "source": [
    "Задание 3: Перегрузка операторов\n",
    "Необходимо создать класс Vector, представляющий список чисел, с атрибутом values. Нужно реализовать перегрузку операторов:\n",
    "\n",
    "__add__ — для сложения двух объектов Vector. Сложение выполняется поэлементно, а результатом является новый объект Vector.\n",
    "__mul__ — для умножения двух объектов Vector. Умножение возвращает скалярное произведение векторов (сумму произведений соответствующих элементов).\n",
    "В задании нужно создать два объекта Vector с разными значениями, выполнить их сложение и умножение, и вывести результаты на экран."
   ]
  },
  {
   "cell_type": "code",
   "execution_count": 3,
   "metadata": {},
   "outputs": [
    {
     "name": "stdout",
     "output_type": "stream",
     "text": [
      "Сумма векторов: [5, 7, 9]\n",
      "Скалярное произведение: 32\n"
     ]
    }
   ],
   "source": [
    "class Vector:\n",
    "    def __init__(self, values):\n",
    "        self.values = values\n",
    "\n",
    "    def __add__(self, other):\n",
    "        return Vector([x + y for x, y in zip(self.values, other.values)])\n",
    "\n",
    "    def __mul__(self, other):\n",
    "        return sum(x * y for x, y in zip(self.values, other.values))\n",
    "\n",
    "\n",
    "# Создаем объекты\n",
    "vector1 = Vector([1, 2, 3])\n",
    "vector2 = Vector([4, 5, 6])\n",
    "\n",
    "# Сложение\n",
    "result_add = vector1 + vector2\n",
    "print(\"Сумма векторов:\", result_add.values)\n",
    "\n",
    "# Умножение\n",
    "result_mul = vector1 * vector2\n",
    "print(\"Скалярное произведение:\", result_mul)\n"
   ]
  },
  {
   "cell_type": "markdown",
   "metadata": {},
   "source": [
    "Задание 4: Проверка наличия свойства\n",
    "Требуется создать класс Person с атрибутами name и age. В классе нужно определить метод __contains__, который проверяет, содержит ли объект указанный атрибут. Метод должен возвращать True, если проверяется наличие атрибутов \"name\" или \"age\", и False — в остальных случаях. В задании нужно создать объект класса Person и проверить наличие атрибутов \"name\" и \"id\" с помощью оператора in."
   ]
  },
  {
   "cell_type": "code",
   "execution_count": 4,
   "metadata": {},
   "outputs": [
    {
     "name": "stdout",
     "output_type": "stream",
     "text": [
      "Есть ли атрибут 'name': True\n",
      "Есть ли атрибут 'id': False\n"
     ]
    }
   ],
   "source": [
    "class Person:\n",
    "    def __init__(self, name, age):\n",
    "        self.name = name\n",
    "        self.age = age\n",
    "\n",
    "    def __contains__(self, attribute):\n",
    "        return attribute in (\"name\", \"age\")\n",
    "\n",
    "\n",
    "# Создаем объект\n",
    "person = Person(\"John\", 30)\n",
    "\n",
    "# Проверяем наличие атрибутов\n",
    "print(\"Есть ли атрибут 'name':\", \"name\" in person)\n",
    "print(\"Есть ли атрибут 'id':\", \"id\" in person)\n"
   ]
  }
 ],
 "metadata": {
  "kernelspec": {
   "display_name": "Python 3",
   "language": "python",
   "name": "python3"
  },
  "language_info": {
   "codemirror_mode": {
    "name": "ipython",
    "version": 3
   },
   "file_extension": ".py",
   "mimetype": "text/x-python",
   "name": "python",
   "nbconvert_exporter": "python",
   "pygments_lexer": "ipython3",
   "version": "3.12.6"
  }
 },
 "nbformat": 4,
 "nbformat_minor": 2
}
