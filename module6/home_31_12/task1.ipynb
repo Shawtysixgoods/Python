{
 "cells": [
  {
   "cell_type": "markdown",
   "metadata": {},
   "source": [
    "Есть три кортежа целых чисел необходимо найти\n",
    "элементы, которые есть во всех кортежах."
   ]
  },
  {
   "cell_type": "code",
   "execution_count": 1,
   "metadata": {},
   "outputs": [
    {
     "name": "stdout",
     "output_type": "stream",
     "text": [
      "Элементы, которые есть во всех кортежах: {3, 4, 5}\n"
     ]
    }
   ],
   "source": [
    "tuple1 = (1, 2, 3, 4, 5)\n",
    "tuple2 = (3, 4, 5, 6, 7)\n",
    "tuple3 = (5, 4, 3, 8, 9)\n",
    "\n",
    "# Используем пересечение множеств\n",
    "result = set(tuple1) & set(tuple2) & set(tuple3)\n",
    "print(\"Элементы, которые есть во всех кортежах:\", result)\n"
   ]
  },
  {
   "cell_type": "markdown",
   "metadata": {},
   "source": [
    "Есть три кортежа целых чисел необходимо найти\n",
    "элементы, которые уникальны для каждого списка."
   ]
  },
  {
   "cell_type": "code",
   "execution_count": 2,
   "metadata": {},
   "outputs": [
    {
     "name": "stdout",
     "output_type": "stream",
     "text": [
      "Уникальные элементы для первого кортежа: {1, 2}\n",
      "Уникальные элементы для второго кортежа: {6, 7}\n",
      "Уникальные элементы для третьего кортежа: {8, 9}\n"
     ]
    }
   ],
   "source": [
    "tuple1 = (1, 2, 3, 4, 5)\n",
    "tuple2 = (3, 4, 5, 6, 7)\n",
    "tuple3 = (5, 4, 3, 8, 9)\n",
    "\n",
    "# Уникальные элементы\n",
    "unique1 = set(tuple1) - (set(tuple2) | set(tuple3))\n",
    "unique2 = set(tuple2) - (set(tuple1) | set(tuple3))\n",
    "unique3 = set(tuple3) - (set(tuple1) | set(tuple2))\n",
    "\n",
    "print(\"Уникальные элементы для первого кортежа:\", unique1)\n",
    "print(\"Уникальные элементы для второго кортежа:\", unique2)\n",
    "print(\"Уникальные элементы для третьего кортежа:\", unique3)\n"
   ]
  },
  {
   "cell_type": "markdown",
   "metadata": {},
   "source": [
    "Есть три кортежа целых чисел необходимо найти элементы, которые есть в каждом из кортежей и находятся\n",
    "в каждом из кортежей на той же позиции"
   ]
  },
  {
   "cell_type": "code",
   "execution_count": 3,
   "metadata": {},
   "outputs": [
    {
     "name": "stdout",
     "output_type": "stream",
     "text": [
      "Элементы на одинаковых позициях: [1, 3, 5]\n"
     ]
    }
   ],
   "source": [
    "tuple1 = (1, 2, 3, 4, 5)\n",
    "tuple2 = (1, 6, 3, 7, 5)\n",
    "tuple3 = (1, 8, 3, 9, 5)\n",
    "\n",
    "# Совпадающие элементы на одной позиции\n",
    "result = [tuple1[i] for i in range(len(tuple1)) if tuple1[i] == tuple2[i] == tuple3[i]]\n",
    "print(\"Элементы на одинаковых позициях:\", result)\n"
   ]
  }
 ],
 "metadata": {
  "kernelspec": {
   "display_name": "Python 3",
   "language": "python",
   "name": "python3"
  },
  "language_info": {
   "codemirror_mode": {
    "name": "ipython",
    "version": 3
   },
   "file_extension": ".py",
   "mimetype": "text/x-python",
   "name": "python",
   "nbconvert_exporter": "python",
   "pygments_lexer": "ipython3",
   "version": "3.12.6"
  }
 },
 "nbformat": 4,
 "nbformat_minor": 2
}
