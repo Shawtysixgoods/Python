{
 "cells": [
  {
   "cell_type": "markdown",
   "metadata": {},
   "source": [
    "Задание №1 Class “Книга”\n",
    "Создайте класс Книга с атрибутами:\n",
    "название (строка),\n",
    "автор (строка),\n",
    "год_издания (целое число),\n",
    "количество_страниц (целое число),\n",
    "цена (вещественное число),\n",
    "Добавьте в класс Книга метод рассчитать_стоимость,\n",
    "который будет возвращать стоимость книги, исходя из\n",
    "ее цены и количества страниц. Формула для расчета\n",
    "стоимости: цена * количество_страниц / 100.\n",
    "Добавьте в класс Книга метод\n",
    "изменить_количество_страниц, который будет\n",
    "принимать новое количество страниц и изменять\n",
    "соответствующий атрибут."
   ]
  },
  {
   "cell_type": "code",
   "execution_count": 1,
   "metadata": {},
   "outputs": [
    {
     "name": "stdout",
     "output_type": "stream",
     "text": [
      "Title: 1984, Author: George Orwell, Year: 1949, Pages: 328, Price: 15.99\n",
      "Book cost: 52.4472\n",
      "Title: 1984, Author: George Orwell, Year: 1949, Pages: 350, Price: 15.99\n",
      "New book cost: 55.965\n"
     ]
    }
   ],
   "source": [
    "class Book:\n",
    "    def __init__(self, title, author, year, pages, price):\n",
    "        self.title = title\n",
    "        self.author = author\n",
    "        self.year = year\n",
    "        self.pages = pages\n",
    "        self.price = price\n",
    "\n",
    "    def calculate_cost(self):\n",
    "        return self.price * self.pages / 100\n",
    "\n",
    "    def update_pages(self, new_pages):\n",
    "        self.pages = new_pages\n",
    "\n",
    "    def display_info(self):\n",
    "        print(f\"Title: {self.title}, Author: {self.author}, Year: {self.year}, \"\n",
    "              f\"Pages: {self.pages}, Price: {self.price}\")\n",
    "\n",
    "# Example usage\n",
    "book = Book(\"1984\", \"George Orwell\", 1949, 328, 15.99)\n",
    "book.display_info()\n",
    "print(f\"Book cost: {book.calculate_cost()}\")\n",
    "\n",
    "book.update_pages(350)\n",
    "book.display_info()\n",
    "print(f\"New book cost: {book.calculate_cost()}\")\n"
   ]
  },
  {
   "cell_type": "markdown",
   "metadata": {},
   "source": [
    "Задание №2 Class “Counter”\n",
    "Создайте класс Счетчик, который будет моделировать\n",
    "счетчик, используемый для подсчета чего-либо. Класс\n",
    "должен иметь следующие свойства и методы:\n",
    "Приватное свойство _значение, которое хранит\n",
    "текущее значение счетчика.\n",
    "Метод увеличить(), который увеличивает значение\n",
    "счетчика на 1.\n",
    "Метод уменьшить(), который уменьшает значение\n",
    "счетчика на 1.\n",
    "Метод получить_значение(), который возвращает\n",
    "текущее значение счетчика.\n",
    "Метод сбросить(), который сбрасывает значение\n",
    "счетчика на 0."
   ]
  },
  {
   "cell_type": "code",
   "execution_count": 2,
   "metadata": {},
   "outputs": [
    {
     "name": "stdout",
     "output_type": "stream",
     "text": [
      "2\n",
      "1\n",
      "0\n"
     ]
    }
   ],
   "source": [
    "class Counter:\n",
    "    def __init__(self):\n",
    "        self._value = 0\n",
    "\n",
    "    def increment(self):\n",
    "        self._value += 1\n",
    "\n",
    "    def decrement(self):\n",
    "        if self._value > 0:\n",
    "            self._value -= 1\n",
    "\n",
    "    def get_value(self):\n",
    "        return self._value\n",
    "\n",
    "    def reset(self):\n",
    "        self._value = 0\n",
    "\n",
    "# Example usage\n",
    "counter = Counter()\n",
    "counter.increment()\n",
    "counter.increment()\n",
    "print(counter.get_value())  # 2\n",
    "counter.decrement()\n",
    "print(counter.get_value())  # 1\n",
    "counter.reset()\n",
    "print(counter.get_value())  # 0\n"
   ]
  },
  {
   "cell_type": "markdown",
   "metadata": {},
   "source": [
    "Создайте класс БанковскийСчет, который будет\n",
    "моделировать банковский счет. Класс должен иметь\n",
    "следующие свойства и методы:\n",
    "Приватное свойство _баланс, которое хранит текущий\n",
    "баланс счета.\n",
    "Метод положить_деньги(сумма), который увеличивает\n",
    "баланс на указанную сумму.\n",
    "Метод снять_деньги(сумма), который уменьшает\n",
    "баланс на указанную сумму. Если на счете\n",
    "недостаточно средств, должно выводиться сообщение\n",
    "об ошибке.\n",
    "Метод получить_баланс(), который возвращает\n",
    "текущий баланс счета."
   ]
  },
  {
   "cell_type": "code",
   "execution_count": 3,
   "metadata": {},
   "outputs": [
    {
     "name": "stdout",
     "output_type": "stream",
     "text": [
      "Account 1 balance: 50\n",
      "Account 2 balance: 50\n"
     ]
    }
   ],
   "source": [
    "class BankAccount:\n",
    "    def __init__(self):\n",
    "        self._balance = 0\n",
    "\n",
    "    def deposit(self, amount):\n",
    "        if amount > 0:\n",
    "            self._balance += amount\n",
    "        else:\n",
    "            print(\"Amount must be positive.\")\n",
    "\n",
    "    def withdraw(self, amount):\n",
    "        if amount > self._balance:\n",
    "            print(\"Insufficient funds.\")\n",
    "        elif amount > 0:\n",
    "            self._balance -= amount\n",
    "        else:\n",
    "            print(\"Amount must be positive.\")\n",
    "\n",
    "    def get_balance(self):\n",
    "        return self._balance\n",
    "\n",
    "    def transfer(self, other_account, amount):\n",
    "        if amount > self._balance:\n",
    "            print(\"Insufficient funds.\")\n",
    "        elif amount > 0:\n",
    "            self._balance -= amount\n",
    "            other_account.deposit(amount)\n",
    "        else:\n",
    "            print(\"Amount must be positive.\")\n",
    "\n",
    "# Example usage\n",
    "account1 = BankAccount()\n",
    "account2 = BankAccount()\n",
    "\n",
    "account1.deposit(100)\n",
    "account1.transfer(account2, 50)\n",
    "\n",
    "print(\"Account 1 balance:\", account1.get_balance())  # 50\n",
    "print(\"Account 2 balance:\", account2.get_balance())  # 50\n"
   ]
  }
 ],
 "metadata": {
  "kernelspec": {
   "display_name": "Python 3",
   "language": "python",
   "name": "python3"
  },
  "language_info": {
   "codemirror_mode": {
    "name": "ipython",
    "version": 3
   },
   "file_extension": ".py",
   "mimetype": "text/x-python",
   "name": "python",
   "nbconvert_exporter": "python",
   "pygments_lexer": "ipython3",
   "version": "3.12.6"
  }
 },
 "nbformat": 4,
 "nbformat_minor": 2
}
