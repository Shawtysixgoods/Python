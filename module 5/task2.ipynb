{
 "cells": [
  {
   "cell_type": "markdown",
   "metadata": {},
   "source": [
    "Написать программу «книги». Создать два списка\n",
    "годы выпуска. Реализовать меню для пользователя:\n",
    "■ Отсортировать по названию книг;\n",
    "■ Отсортировать по годам выпуска;\n",
    "■ Вывести список книг с названиями и годами выпуска;\n",
    "■ Выход;"
   ]
  },
  {
   "cell_type": "code",
   "execution_count": 1,
   "metadata": {},
   "outputs": [
    {
     "name": "stdout",
     "output_type": "stream",
     "text": [
      "Меню:\n",
      "1. Отсортировать по названию книг\n",
      "2. Отсортировать по годам выпуска\n",
      "3. Вывести список книг\n",
      "4. Выход\n",
      "\n",
      "Список отсортирован по названию книг.\n",
      "\n",
      "Меню:\n",
      "1. Отсортировать по названию книг\n",
      "2. Отсортировать по годам выпуска\n",
      "3. Вывести список книг\n",
      "4. Выход\n",
      "\n",
      "Список отсортирован по годам выпуска.\n",
      "\n",
      "Меню:\n",
      "1. Отсортировать по названию книг\n",
      "2. Отсортировать по годам выпуска\n",
      "3. Вывести список книг\n",
      "4. Выход\n",
      "\n",
      "Список книг:\n",
      "Название: Преступление и наказание, Год выпуска: 1866\n",
      "Название: Война и мир, Год выпуска: 1869\n",
      "Название: 1984, Год выпуска: 1949\n",
      "Название: Мастер и Маргарита, Год выпуска: 1967\n",
      "Название: Гарри Поттер, Год выпуска: 1997\n",
      "\n",
      "Меню:\n",
      "1. Отсортировать по названию книг\n",
      "2. Отсортировать по годам выпуска\n",
      "3. Вывести список книг\n",
      "4. Выход\n",
      "Выход из программы.\n"
     ]
    }
   ],
   "source": [
    "# Инициализация списков\n",
    "books = [\"Гарри Поттер\", \"Война и мир\", \"1984\", \"Мастер и Маргарита\", \"Преступление и наказание\"]\n",
    "years = [1997, 1869, 1949, 1967, 1866]\n",
    "\n",
    "# Функция для вывода списка книг\n",
    "def show_books(books, years):\n",
    "    print(\"\\nСписок книг:\")\n",
    "    for book, year in zip(books, years):\n",
    "        print(f\"Название: {book}, Год выпуска: {year}\")\n",
    "    print()\n",
    "\n",
    "# Функция для сортировки по названию книг\n",
    "def sort_by_books(books, years):\n",
    "    sorted_pairs = sorted(zip(books, years))\n",
    "    return [pair[0] for pair in sorted_pairs], [pair[1] for pair in sorted_pairs]\n",
    "\n",
    "# Функция для сортировки по годам выпуска\n",
    "def sort_by_years(books, years):\n",
    "    sorted_pairs = sorted(zip(years, books))\n",
    "    return [pair[1] for pair in sorted_pairs], [pair[0] for pair in sorted_pairs]\n",
    "\n",
    "# Главное меню\n",
    "def main():\n",
    "    global books, years\n",
    "    while True:\n",
    "        print(\"Меню:\")\n",
    "        print(\"1. Отсортировать по названию книг\")\n",
    "        print(\"2. Отсортировать по годам выпуска\")\n",
    "        print(\"3. Вывести список книг\")\n",
    "        print(\"4. Выход\")\n",
    "        choice = input(\"Введите номер операции: \")\n",
    "\n",
    "        if choice == \"1\":\n",
    "            books, years = sort_by_books(books, years)\n",
    "            print(\"\\nСписок отсортирован по названию книг.\\n\")\n",
    "        elif choice == \"2\":\n",
    "            books, years = sort_by_years(books, years)\n",
    "            print(\"\\nСписок отсортирован по годам выпуска.\\n\")\n",
    "        elif choice == \"3\":\n",
    "            show_books(books, years)\n",
    "        elif choice == \"4\":\n",
    "            print(\"Выход из программы.\")\n",
    "            break\n",
    "        else:\n",
    "            print(\"Некорректный ввод. Попробуйте снова.\")\n",
    "\n",
    "if __name__ == \"__main__\":\n",
    "    main()\n"
   ]
  }
 ],
 "metadata": {
  "kernelspec": {
   "display_name": "Python 3",
   "language": "python",
   "name": "python3"
  },
  "language_info": {
   "codemirror_mode": {
    "name": "ipython",
    "version": 3
   },
   "file_extension": ".py",
   "mimetype": "text/x-python",
   "name": "python",
   "nbconvert_exporter": "python",
   "pygments_lexer": "ipython3",
   "version": "3.12.6"
  }
 },
 "nbformat": 4,
 "nbformat_minor": 2
}
