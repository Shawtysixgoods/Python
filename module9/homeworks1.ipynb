{
 "cells": [
  {
   "cell_type": "markdown",
   "metadata": {},
   "source": [
    "Задание 1\n",
    "Создайте класс Device, который содержит информацию об устройстве. С помощью механизма наследования реализуйте классы CoffeeMachine, Blender, MeatGrinder. Каждый из классов должен содержать необходимые для работы методы."
   ]
  },
  {
   "cell_type": "code",
   "execution_count": 1,
   "metadata": {},
   "outputs": [
    {
     "name": "stdout",
     "output_type": "stream",
     "text": [
      "Philips CoffeeMachine\n",
      "Готовлю кофе...\n",
      "Bosch Blender\n",
      "Смешиваю ингредиенты...\n",
      "Panasonic MeatGrinder\n",
      "Перемалываю мясо...\n"
     ]
    }
   ],
   "source": [
    "class Device:\n",
    "    def __init__(self, name, brand):\n",
    "        self.name = name\n",
    "        self.brand = brand\n",
    "\n",
    "    def get_info(self):\n",
    "        return f\"{self.brand} {self.name}\"\n",
    "\n",
    "class CoffeeMachine(Device):\n",
    "    def brew_coffee(self):\n",
    "        return \"Готовлю кофе...\"\n",
    "\n",
    "class Blender(Device):\n",
    "    def blend(self):\n",
    "        return \"Смешиваю ингредиенты...\"\n",
    "\n",
    "class MeatGrinder(Device):\n",
    "    def grind_meat(self):\n",
    "        return \"Перемалываю мясо...\"\n",
    "\n",
    "coffee_machine = CoffeeMachine(\"CoffeeMachine\", \"Philips\")\n",
    "print(coffee_machine.get_info())\n",
    "print(coffee_machine.brew_coffee())\n",
    "\n",
    "blender = Blender(\"Blender\", \"Bosch\")\n",
    "print(blender.get_info())\n",
    "print(blender.blend())\n",
    "\n",
    "meat_grinder = MeatGrinder(\"MeatGrinder\", \"Panasonic\")\n",
    "print(meat_grinder.get_info())\n",
    "print(meat_grinder.grind_meat())\n",
    "\n"
   ]
  },
  {
   "cell_type": "markdown",
   "metadata": {},
   "source": [
    "Задание 2\n",
    "Создайте класс Ship, который содержит информацию о корабле. С помощью механизма наследования реализуйте классы Boat, Frigate, Cruiser. Каждый из классов должен содержать необходимые для работы методы."
   ]
  },
  {
   "cell_type": "code",
   "execution_count": 2,
   "metadata": {},
   "outputs": [
    {
     "name": "stdout",
     "output_type": "stream",
     "text": [
      "Корабль Лодочка, водоизмещение: 100 т\n",
      "Лодка плывёт...\n",
      "Корабль Морской Волк, водоизмещение: 2000 т\n",
      "Фрегат ведёт бой...\n",
      "Корабль Быстрый, водоизмещение: 10000 т\n",
      "Крейсер патрулирует воды...\n"
     ]
    }
   ],
   "source": [
    "class Ship:\n",
    "    def __init__(self, name, displacement):\n",
    "        self.name = name\n",
    "        self.displacement = displacement\n",
    "\n",
    "    def get_info(self):\n",
    "        return f\"Корабль {self.name}, водоизмещение: {self.displacement} т\"\n",
    "\n",
    "class Boat(Ship):\n",
    "    def sail(self):\n",
    "        return \"Лодка плывёт...\"\n",
    "\n",
    "class Frigate(Ship):\n",
    "    def attack(self):\n",
    "        return \"Фрегат ведёт бой...\"\n",
    "\n",
    "class Cruiser(Ship):\n",
    "    def patrol(self):\n",
    "        return \"Крейсер патрулирует воды...\"\n",
    "\n",
    "boat = Boat(\"Лодочка\", 100)\n",
    "print(boat.get_info())\n",
    "print(boat.sail())\n",
    "\n",
    "frigate = Frigate(\"Морской Волк\", 2000)\n",
    "print(frigate.get_info())\n",
    "print(frigate.attack())\n",
    "\n",
    "cruiser = Cruiser(\"Быстрый\", 10000)\n",
    "print(cruiser.get_info())\n",
    "print(cruiser.patrol())\n"
   ]
  },
  {
   "cell_type": "markdown",
   "metadata": {},
   "source": [
    "Задание 3\n",
    "Запрограммируйте класс Money (объект класса оперирует одной валютой) для работы с деньгами. В классе должны быть предусмотрены поля для хранения целой части денег и поля для хранения копеек (центов, евроцентов, копеек и т.д.). Реализовать методы для вывода суммы на экран, а также задания значений для частей."
   ]
  },
  {
   "cell_type": "code",
   "execution_count": 3,
   "metadata": {},
   "outputs": [
    {
     "name": "stdout",
     "output_type": "stream",
     "text": [
      "10.05\n",
      "12.99\n"
     ]
    }
   ],
   "source": [
    "class Money:\n",
    "    def __init__(self, whole=0, fraction=0):\n",
    "        self.whole = whole\n",
    "        self.fraction = fraction\n",
    "\n",
    "    def set_whole(self, value):\n",
    "        self.whole = value\n",
    "\n",
    "    def set_fraction(self, value):\n",
    "        self.fraction = value\n",
    "\n",
    "    def get_amount(self):\n",
    "        return f\"{self.whole}.{str(self.fraction).zfill(2)}\"\n",
    "\n",
    "money = Money(10, 5)\n",
    "print(money.get_amount())\n",
    "money.set_whole(12)\n",
    "money.set_fraction(99)\n",
    "print(money.get_amount())\n"
   ]
  }
 ],
 "metadata": {
  "kernelspec": {
   "display_name": "Python 3",
   "language": "python",
   "name": "python3"
  },
  "language_info": {
   "codemirror_mode": {
    "name": "ipython",
    "version": 3
   },
   "file_extension": ".py",
   "mimetype": "text/x-python",
   "name": "python",
   "nbconvert_exporter": "python",
   "pygments_lexer": "ipython3",
   "version": "3.12.6"
  }
 },
 "nbformat": 4,
 "nbformat_minor": 2
}
