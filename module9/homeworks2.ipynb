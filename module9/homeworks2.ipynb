{
 "cells": [
  {
   "cell_type": "markdown",
   "metadata": {},
   "source": [
    "Задание 1\n",
    "Создайте класс Circle (окружность). Для данного класса реализуйте ряд перегруженных операторов:\n",
    "\n",
    "Проверка на равенство радиусов окружностей (операция ==);\n",
    "Пропорциональное изменение размеров окружности путём изменения её радиуса (операция *);\n",
    "Сложение двух окружностей (операция +)."
   ]
  },
  {
   "cell_type": "code",
   "execution_count": 1,
   "metadata": {},
   "outputs": [
    {
     "name": "stdout",
     "output_type": "stream",
     "text": [
      "True\n",
      "10\n",
      "15\n"
     ]
    }
   ],
   "source": [
    "class Circle:\n",
    "    def __init__(self, radius):\n",
    "        self.radius = radius\n",
    "\n",
    "    def __eq__(self, other):\n",
    "        return self.radius == other.radius\n",
    "\n",
    "    def __mul__(self, factor):\n",
    "        return Circle(self.radius * factor)\n",
    "\n",
    "    def __add__(self, other):\n",
    "        return Circle(self.radius + other.radius)\n",
    "\n",
    "c1 = Circle(5)\n",
    "c2 = Circle(5)\n",
    "c3 = Circle(10)\n",
    "\n",
    "print(c1 == c2)\n",
    "print((c1 * 2).radius)\n",
    "print((c1 + c3).radius)\n"
   ]
  },
  {
   "cell_type": "markdown",
   "metadata": {},
   "source": [
    "Задание 2\n",
    "Создайте класс Complex (комплексные числа). Более подробно остановитесь на комплексном числе и реализуйте следующие операции:\n",
    "\n",
    "Сложение и вычитание (операции + и -);\n",
    "Умножение (операция *);\n",
    "Сравнение двух комплексных чисел по модулю (операции <, >, <=, >=)."
   ]
  },
  {
   "cell_type": "code",
   "execution_count": 2,
   "metadata": {},
   "outputs": [
    {
     "name": "stdout",
     "output_type": "stream",
     "text": [
      "3+4j\n",
      "1+2j\n",
      "-1+5j\n",
      "False\n",
      "True\n"
     ]
    }
   ],
   "source": [
    "class Complex:\n",
    "    def __init__(self, real, imag):\n",
    "        self.real = real\n",
    "        self.imag = imag\n",
    "\n",
    "    def __add__(self, other):\n",
    "        return Complex(self.real + other.real, self.imag + other.imag)\n",
    "\n",
    "    def __sub__(self, other):\n",
    "        return Complex(self.real - other.real, self.imag - other.imag)\n",
    "\n",
    "    def __mul__(self, other):\n",
    "        return Complex(self.real * other.real - self.imag * other.imag,\n",
    "                       self.real * other.imag + self.imag * other.real)\n",
    "\n",
    "    def __abs__(self):\n",
    "        return (self.real**2 + self.imag**2) ** 0.5\n",
    "\n",
    "    def __lt__(self, other):\n",
    "        return abs(self) < abs(other)\n",
    "\n",
    "    def __le__(self, other):\n",
    "        return abs(self) <= abs(other)\n",
    "\n",
    "    def __gt__(self, other):\n",
    "        return abs(self) > abs(other)\n",
    "\n",
    "    def __ge__(self, other):\n",
    "        return abs(self) >= abs(other)\n",
    "\n",
    "    def __str__(self):\n",
    "        return f\"{self.real}+{self.imag}j\"\n",
    "\n",
    "c1 = Complex(2, 3)\n",
    "c2 = Complex(1, 1)\n",
    "c3 = c1 + c2\n",
    "c4 = c1 - c2\n",
    "c5 = c1 * c2\n",
    "\n",
    "print(c3)\n",
    "print(c4)\n",
    "print(c5)\n",
    "print(c1 < c2)\n",
    "print(c1 >= c2)\n"
   ]
  },
  {
   "cell_type": "markdown",
   "metadata": {},
   "source": [
    "Задание 3\n",
    "Создайте класс Airplane (самолёт). Реализуйте перегруженные операторы:\n",
    "\n",
    "Проверка на равенство типов самолётов (операция ==);\n",
    "Увеличение и уменьшение пассажиров в салоне самолёта (операции += и -=);\n",
    "Сравнение двух самолётов по максимальному количеству пассажиров на борту (операции > и <)."
   ]
  },
  {
   "cell_type": "code",
   "execution_count": 3,
   "metadata": {},
   "outputs": [
    {
     "name": "stdout",
     "output_type": "stream",
     "text": [
      "False\n",
      "True\n",
      "150\n",
      "50\n",
      "False\n",
      "True\n"
     ]
    }
   ],
   "source": [
    "class Airplane:\n",
    "    def __init__(self, airplane_type, current_passengers, max_passengers):\n",
    "        self.airplane_type = airplane_type\n",
    "        self.current_passengers = current_passengers\n",
    "        self.max_passengers = max_passengers\n",
    "\n",
    "    def __eq__(self, other):\n",
    "        return self.airplane_type == other.airplane_type\n",
    "\n",
    "    def __iadd__(self, number):\n",
    "        new_count = self.current_passengers + number\n",
    "        if new_count <= self.max_passengers:\n",
    "            self.current_passengers = new_count\n",
    "        else:\n",
    "            self.current_passengers = self.max_passengers\n",
    "        return self\n",
    "\n",
    "    def __isub__(self, number):\n",
    "        new_count = self.current_passengers - number\n",
    "        if new_count >= 0:\n",
    "            self.current_passengers = new_count\n",
    "        else:\n",
    "            self.current_passengers = 0\n",
    "        return self\n",
    "\n",
    "    def __gt__(self, other):\n",
    "        return self.max_passengers > other.max_passengers\n",
    "\n",
    "    def __lt__(self, other):\n",
    "        return self.max_passengers < other.max_passengers\n",
    "\n",
    "plane1 = Airplane(\"Boeing\", 100, 200)\n",
    "plane2 = Airplane(\"Airbus\", 150, 220)\n",
    "plane3 = Airplane(\"Boeing\", 50, 180)\n",
    "\n",
    "print(plane1 == plane2)\n",
    "print(plane1 == plane3)\n",
    "\n",
    "plane1 += 50\n",
    "plane2 -= 100\n",
    "print(plane1.current_passengers)\n",
    "print(plane2.current_passengers)\n",
    "\n",
    "print(plane1 > plane2)\n",
    "print(plane1 < plane2)\n"
   ]
  },
  {
   "cell_type": "markdown",
   "metadata": {},
   "source": [
    "Задание 4\n",
    "Создайте класс Flat (квартира). Реализовать перегруженные операторы:\n",
    "\n",
    "Проверка на равенство двух квартир (операция ==);\n",
    "Проверка на неравенство площадей квартир (операция !=);\n",
    "Сравнение двух квартир по цене (операции <, >, <=, >=)."
   ]
  },
  {
   "cell_type": "code",
   "execution_count": 4,
   "metadata": {},
   "outputs": [
    {
     "name": "stdout",
     "output_type": "stream",
     "text": [
      "False\n",
      "False\n",
      "True\n",
      "False\n"
     ]
    }
   ],
   "source": [
    "class Flat:\n",
    "    def __init__(self, area, price):\n",
    "        self.area = area\n",
    "        self.price = price\n",
    "\n",
    "    def __eq__(self, other):\n",
    "        return self.area == other.area and self.price == other.price\n",
    "\n",
    "    def __ne__(self, other):\n",
    "        return self.area != other.area\n",
    "\n",
    "    def __lt__(self, other):\n",
    "        return self.price < other.price\n",
    "\n",
    "    def __gt__(self, other):\n",
    "        return self.price > other.price\n",
    "\n",
    "    def __le__(self, other):\n",
    "        return self.price <= other.price\n",
    "\n",
    "    def __ge__(self, other):\n",
    "        return self.price >= other.price\n",
    "\n",
    "flat1 = Flat(50, 30000)\n",
    "flat2 = Flat(50, 32000)\n",
    "flat3 = Flat(60, 45000)\n",
    "\n",
    "print(flat1 == flat2)\n",
    "print(flat1 != flat2)\n",
    "print(flat1 < flat3)\n",
    "print(flat1 >= flat2)\n"
   ]
  }
 ],
 "metadata": {
  "kernelspec": {
   "display_name": "Python 3",
   "language": "python",
   "name": "python3"
  },
  "language_info": {
   "codemirror_mode": {
    "name": "ipython",
    "version": 3
   },
   "file_extension": ".py",
   "mimetype": "text/x-python",
   "name": "python",
   "nbconvert_exporter": "python",
   "pygments_lexer": "ipython3",
   "version": "3.12.6"
  }
 },
 "nbformat": 4,
 "nbformat_minor": 2
}
