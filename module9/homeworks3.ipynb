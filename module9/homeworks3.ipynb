{
 "cells": [
  {
   "cell_type": "markdown",
   "metadata": {},
   "source": [
    "Задача: Разработка системы управления транспортным парком"
   ]
  },
  {
   "cell_type": "code",
   "execution_count": 1,
   "metadata": {},
   "outputs": [
    {
     "name": "stdout",
     "output_type": "stream",
     "text": [
      "Toyota Corolla (2020), пробег: 15000, тип кузова: Sedan\n",
      "Volvo FH16 (2018), пробег: 75000, грузоподъемность: 25 т\n",
      "Yamaha MT-07 (2021), пробег: 5000, тип мотоцикла: Sport\n"
     ]
    }
   ],
   "source": [
    "class Vehicle:\n",
    "    def __init__(self, brand, model, year, mileage):\n",
    "        self._brand = brand\n",
    "        self._model = model\n",
    "        self._year = year\n",
    "        self._mileage = mileage\n",
    "\n",
    "    def get_info(self):\n",
    "        return f\"{self._brand} {self._model} ({self._year}), пробег: {self._mileage}\"\n",
    "\n",
    "class Car(Vehicle):\n",
    "    def __init__(self, brand, model, year, mileage, body_type):\n",
    "        super().__init__(brand, model, year, mileage)\n",
    "        self._body_type = body_type\n",
    "\n",
    "    def get_info(self):\n",
    "        return super().get_info() + f\", тип кузова: {self._body_type}\"\n",
    "\n",
    "class Truck(Vehicle):\n",
    "    def __init__(self, brand, model, year, mileage, capacity):\n",
    "        super().__init__(brand, model, year, mileage)\n",
    "        self._capacity = capacity\n",
    "\n",
    "    def get_info(self):\n",
    "        return super().get_info() + f\", грузоподъемность: {self._capacity} т\"\n",
    "\n",
    "class Motorcycle(Vehicle):\n",
    "    def __init__(self, brand, model, year, mileage, moto_type):\n",
    "        super().__init__(brand, model, year, mileage)\n",
    "        self._moto_type = moto_type\n",
    "\n",
    "    def get_info(self):\n",
    "        return super().get_info() + f\", тип мотоцикла: {self._moto_type}\"\n",
    "\n",
    "class Fleet:\n",
    "    def __init__(self):\n",
    "        self._vehicles = []\n",
    "\n",
    "    def add_vehicle(self, vehicle):\n",
    "        self._vehicles.append(vehicle)\n",
    "\n",
    "    def list_vehicles(self):\n",
    "        for vehicle in self._vehicles:\n",
    "            print(vehicle.get_info())\n",
    "\n",
    "fleet = Fleet()\n",
    "car = Car(\"Toyota\", \"Corolla\", 2020, 15000, \"Sedan\")\n",
    "truck = Truck(\"Volvo\", \"FH16\", 2018, 75000, 25)\n",
    "motorcycle = Motorcycle(\"Yamaha\", \"MT-07\", 2021, 5000, \"Sport\")\n",
    "fleet.add_vehicle(car)\n",
    "fleet.add_vehicle(truck)\n",
    "fleet.add_vehicle(motorcycle)\n",
    "fleet.list_vehicles()\n"
   ]
  }
 ],
 "metadata": {
  "kernelspec": {
   "display_name": "Python 3",
   "language": "python",
   "name": "python3"
  },
  "language_info": {
   "codemirror_mode": {
    "name": "ipython",
    "version": 3
   },
   "file_extension": ".py",
   "mimetype": "text/x-python",
   "name": "python",
   "nbconvert_exporter": "python",
   "pygments_lexer": "ipython3",
   "version": "3.12.6"
  }
 },
 "nbformat": 4,
 "nbformat_minor": 2
}
