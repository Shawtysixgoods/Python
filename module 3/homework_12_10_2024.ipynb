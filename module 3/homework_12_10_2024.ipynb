{
 "cells": [
  {
   "cell_type": "markdown",
   "metadata": {},
   "source": [
    "Два списка целых заполняются случайными числами.\n",
    "Необходимо:\n",
    "\n",
    "■ Сформировать третий список, содержащий элементы\n",
    "обоих списков;\n",
    "\n",
    "■ Сформировать третий список, содержащий элементы\n",
    "обоих списков без повторений;\n",
    "\n",
    "■ Сформировать третий список, содержащий элементы\n",
    "общие для двух списков;\n",
    "\n",
    "■ Сформировать третий список, содержащий только\n",
    "уникальные элементы каждого из списков;\n",
    "\n",
    "■ Сформировать третий список, содержащий только\n",
    "минимальное и максимальное значение каждого из\n",
    "списков."
   ]
  },
  {
   "cell_type": "code",
   "execution_count": 2,
   "metadata": {},
   "outputs": [
    {
     "data": {
      "text/plain": [
       "([8, 18, 13, 1, 10, 1, 5, 13, 10, 17, 16, 12, 3, 7, 4, 17, 16, 10, 4, 6],\n",
       " [1, 3, 4, 5, 6, 7, 8, 10, 12, 13, 16, 17, 18],\n",
       " [17, 10],\n",
       " [1, 3, 4, 5, 6, 7, 8, 12, 13, 16, 18],\n",
       " [1, 18, 3, 17])"
      ]
     },
     "execution_count": 2,
     "metadata": {},
     "output_type": "execute_result"
    }
   ],
   "source": [
    "import random\n",
    "\n",
    "# Генерируем два списка случайных чисел\n",
    "list1 = [random.randint(1, 20) for _ in range(10)]\n",
    "list2 = [random.randint(1, 20) for _ in range(10)]\n",
    "\n",
    "# 1. Список с элементами обоих списков\n",
    "combined_list = list1 + list2\n",
    "\n",
    "# 2. Список с элементами обоих списков без повторений\n",
    "unique_combined_list = list(set(combined_list))\n",
    "\n",
    "# 3. Список с элементами, общими для двух списков\n",
    "common_elements = list(set(list1) & set(list2))\n",
    "\n",
    "# 4. Список с уникальными элементами каждого из списков\n",
    "unique_elements = list(set(list1).symmetric_difference(set(list2)))\n",
    "\n",
    "# 5. Список, содержащий минимальное и максимальное значения каждого из списков\n",
    "min_max_list = [min(list1), max(list1), min(list2), max(list2)]\n",
    "\n",
    "# Вывод результатов\n",
    "combined_list, unique_combined_list, common_elements, unique_elements, min_max_list"
   ]
  }
 ],
 "metadata": {
  "kernelspec": {
   "display_name": "Python 3",
   "language": "python",
   "name": "python3"
  },
  "language_info": {
   "codemirror_mode": {
    "name": "ipython",
    "version": 3
   },
   "file_extension": ".py",
   "mimetype": "text/x-python",
   "name": "python",
   "nbconvert_exporter": "python",
   "pygments_lexer": "ipython3",
   "version": "3.12.6"
  }
 },
 "nbformat": 4,
 "nbformat_minor": 2
}
