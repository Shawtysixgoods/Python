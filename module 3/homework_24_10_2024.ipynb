{
 "cells": [
  {
   "cell_type": "markdown",
   "metadata": {},
   "source": [
    "1. Числа Фибоначчи: Напишите программу, которая выводит первые 50 чисел Фибоначчи. \n",
    "\n",
    "Напоминаем, что ряд Фибоначчи начинается с чисел 0 и 1, а каждое последующее число равно сумме двух предыдущих."
   ]
  },
  {
   "cell_type": "code",
   "execution_count": 1,
   "metadata": {},
   "outputs": [
    {
     "data": {
      "text/plain": [
       "[0,\n",
       " 1,\n",
       " 1,\n",
       " 2,\n",
       " 3,\n",
       " 5,\n",
       " 8,\n",
       " 13,\n",
       " 21,\n",
       " 34,\n",
       " 55,\n",
       " 89,\n",
       " 144,\n",
       " 233,\n",
       " 377,\n",
       " 610,\n",
       " 987,\n",
       " 1597,\n",
       " 2584,\n",
       " 4181,\n",
       " 6765,\n",
       " 10946,\n",
       " 17711,\n",
       " 28657,\n",
       " 46368,\n",
       " 75025,\n",
       " 121393,\n",
       " 196418,\n",
       " 317811,\n",
       " 514229,\n",
       " 832040,\n",
       " 1346269,\n",
       " 2178309,\n",
       " 3524578,\n",
       " 5702887,\n",
       " 9227465,\n",
       " 14930352,\n",
       " 24157817,\n",
       " 39088169,\n",
       " 63245986,\n",
       " 102334155,\n",
       " 165580141,\n",
       " 267914296,\n",
       " 433494437,\n",
       " 701408733,\n",
       " 1134903170,\n",
       " 1836311903,\n",
       " 2971215073,\n",
       " 4807526976,\n",
       " 7778742049]"
      ]
     },
     "execution_count": 1,
     "metadata": {},
     "output_type": "execute_result"
    }
   ],
   "source": [
    "# Генерируем первые 50 чисел Фибоначчи\n",
    "fibonacci = [0, 1]\n",
    "for _ in range(48):\n",
    "    fibonacci.append(fibonacci[-1] + fibonacci[-2])\n",
    "\n",
    "# Выводим список чисел Фибоначчи\n",
    "fibonacci"
   ]
  },
  {
   "cell_type": "markdown",
   "metadata": {},
   "source": [
    "2. Сумма цифр: Напишите программу, которая принимает на вход натуральное число и вычисляет сумму его цифр.\n"
   ]
  },
  {
   "cell_type": "code",
   "execution_count": 3,
   "metadata": {},
   "outputs": [
    {
     "data": {
      "text/plain": [
       "15"
      ]
     },
     "execution_count": 3,
     "metadata": {},
     "output_type": "execute_result"
    }
   ],
   "source": [
    "# Пример числа\n",
    "number = 12345  # Заменить на input() для ввода с клавиатуры\n",
    "\n",
    "# Сумма цифр числа\n",
    "digit_sum = sum(int(digit) for digit in str(number))\n",
    "\n",
    "# Выводим результат\n",
    "digit_sum"
   ]
  },
  {
   "cell_type": "markdown",
   "metadata": {},
   "source": [
    "3. Игра \"Угадай число\": Напишите программу, которая \"загадывает\" случайное число от 1 до 100 и предлагает пользователю его угадать. После каждого ввода числа программа должна сообщать, больше загаданное число, меньше или равно. Игра продолжается, пока пользователь не угадает число. В конце игры программа должна вывести количество попыток."
   ]
  },
  {
   "cell_type": "code",
   "execution_count": 4,
   "metadata": {},
   "outputs": [
    {
     "name": "stdout",
     "output_type": "stream",
     "text": [
      "Больше\n",
      "Больше\n",
      "Больше\n",
      "Больше\n",
      "Больше\n",
      "Больше\n",
      "Больше\n",
      "Меньше\n",
      "Меньше\n",
      "Больше\n",
      "Больше\n",
      "Больше\n",
      "Меньше\n",
      "Меньше\n",
      "Меньше\n",
      "Меньше\n",
      "Меньше\n",
      "Угадано за 18 попыток!\n"
     ]
    }
   ],
   "source": [
    "import random\n",
    "\n",
    "secret_number, attempts = random.randint(1, 100), 0\n",
    "\n",
    "while (guess := int(input(\"Введите число: \"))) != secret_number:\n",
    "    print(\"Больше\" if guess < secret_number else \"Меньше\")\n",
    "    attempts += 1\n",
    "\n",
    "print(f\"Угадано за {attempts + 1} попыток!\")"
   ]
  },
  {
   "cell_type": "markdown",
   "metadata": {},
   "source": [
    "4. Звездочки: Напишите программу, которая рисует прямоугольник из звездочек, используя циклы. Пользователь вводит высоту и ширину прямоугольника."
   ]
  },
  {
   "cell_type": "code",
   "execution_count": 7,
   "metadata": {},
   "outputs": [
    {
     "name": "stdout",
     "output_type": "stream",
     "text": [
      "*****\n",
      "*****\n",
      "*****\n",
      "*****\n",
      "*****\n"
     ]
    }
   ],
   "source": [
    "# Пример ввода высоты и ширины\n",
    "height, width = 5, 5  # Заменить на input() для реального ввода\n",
    "\n",
    "# Рисуем прямоугольник из звездочек\n",
    "for _ in range(height):\n",
    "    print('*' * width)"
   ]
  },
  {
   "cell_type": "markdown",
   "metadata": {},
   "source": [
    "5. Факториал: Напишите программу, которая вычисляет факториал заданного пользователем числа. Факториал числа n (обозначается n!) — это произведение всех натуральных чисел от 1 до n. Использовать функцию factorial() из библиотеки math запрещается!"
   ]
  },
  {
   "cell_type": "code",
   "execution_count": 10,
   "metadata": {},
   "outputs": [
    {
     "data": {
      "text/plain": [
       "5040"
      ]
     },
     "execution_count": 10,
     "metadata": {},
     "output_type": "execute_result"
    },
    {
     "ename": "",
     "evalue": "",
     "output_type": "error",
     "traceback": [
      "\u001b[1;31mПри выполнении кода в текущей ячейке или предыдущей ячейке ядро аварийно завершило работу. \n",
      "\u001b[1;31mПроверьте код в ячейках, чтобы определить возможную причину сбоя. \n",
      "\u001b[1;31mЩелкните <a href='https://aka.ms/vscodeJupyterKernelCrash'>здесь</a>, чтобы получить дополнительные сведения. \n",
      "\u001b[1;31mПодробнее см. в <a href='command:jupyter.viewOutput'>журнале Jupyter</a>."
     ]
    }
   ],
   "source": [
    "\n",
    "n = 7  # Заменить на input() для реального ввода\n",
    "\n",
    "# Вычисляем факториал\n",
    "factorial = 1\n",
    "for i in range(2, n + 1):\n",
    "    factorial *= i\n",
    "\n",
    "# Выводим результат\n",
    "factorial"
   ]
  }
 ],
 "metadata": {
  "kernelspec": {
   "display_name": "Python 3",
   "language": "python",
   "name": "python3"
  },
  "language_info": {
   "codemirror_mode": {
    "name": "ipython",
    "version": 3
   },
   "file_extension": ".py",
   "mimetype": "text/x-python",
   "name": "python",
   "nbconvert_exporter": "python",
   "pygments_lexer": "ipython3",
   "version": "3.12.6"
  }
 },
 "nbformat": 4,
 "nbformat_minor": 2
}
