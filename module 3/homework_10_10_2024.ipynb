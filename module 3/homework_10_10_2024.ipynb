{
 "cells": [
  {
   "cell_type": "markdown",
   "metadata": {},
   "source": [
    "Пользователь вводит с клавиатуры строку. Проверьтеявляется ли введенная строка палиндромом. \n",
    "\n",
    "Палинслева направо и справа налево. Например, кок; А роза упала на лапу Азора; доход; А буду я у дуба."
   ]
  },
  {
   "cell_type": "code",
   "execution_count": 1,
   "metadata": {},
   "outputs": [
    {
     "name": "stdout",
     "output_type": "stream",
     "text": [
      "Палиндром\n"
     ]
    }
   ],
   "source": [
    "# Получаем строку от пользователя\n",
    "text = \"А роза упала на лапу Азора\"  # Заменитьна text = input() при необходимости\n",
    "\n",
    "# Приводим строку к единому регистру и убираем пробелы\n",
    "clean_text = ''.join(c.lower() for c in text if c.isalnum())\n",
    "\n",
    "# Проверяем, является ли строка палиндромом\n",
    "print(\"Палиндром\" if clean_text == clean_text[::-1] else \"Не палиндром\")"
   ]
  },
  {
   "cell_type": "markdown",
   "metadata": {},
   "source": [
    "Пользователь вводит с клавиатуры некоторый текст,\n",
    "после чегопользователь вводит список зарезервированных\n",
    "слов. Необходимо найти в тексте все зарезервированные\n",
    "слова и изменить их регистр на верхний. Вывести на\n",
    "экран измененный текст. "
   ]
  },
  {
   "cell_type": "code",
   "execution_count": 2,
   "metadata": {},
   "outputs": [
    {
     "name": "stdout",
     "output_type": "stream",
     "text": [
      "Пользователь ВВОДИТ с клавиатуры ТЕКСТ, а также ВВОДИТ список слов.\n"
     ]
    }
   ],
   "source": [
    "# Пример текста и списка зарезервированных слов\n",
    "text = \"Пользователь вводит с клавиатуры текст, а также вводит список слов.\"  # Заменить на text = input()\n",
    "reserved_words = [\"вводит\", \"текст\"]  # Заменить на input()\n",
    "\n",
    "# Преобразуем зарезервированные слова в верхний регистр в тексте\n",
    "for word in reserved_words:\n",
    "    text = text.replace(word, word.upper())\n",
    "\n",
    "# Выводим изменённый текст\n",
    "print(text)"
   ]
  },
  {
   "cell_type": "markdown",
   "metadata": {},
   "source": [
    "Есть некоторый текст. Посчитайте в этом тексте количество предложений и выведите на экран полученный\n",
    "результат."
   ]
  },
  {
   "cell_type": "code",
   "execution_count": 6,
   "metadata": {},
   "outputs": [
    {
     "name": "stdout",
     "output_type": "stream",
     "text": [
      "3\n"
     ]
    }
   ],
   "source": [
    "import re\n",
    "\n",
    "# Пример текста\n",
    "text = \"Пример текста. Он состоит из нескольких предложений. Вот ещё одно предложение!\"\n",
    "\n",
    "# Считаем количество предложений (разделяем по точке, восклицательному и вопросительному знакам)\n",
    "sentences = [s for s in re.split(r'[.!?]', text) if s.strip()]\n",
    "\n",
    "# Выводим количество предложений\n",
    "print(len(sentences))"
   ]
  }
 ],
 "metadata": {
  "kernelspec": {
   "display_name": "Python 3",
   "language": "python",
   "name": "python3"
  },
  "language_info": {
   "codemirror_mode": {
    "name": "ipython",
    "version": 3
   },
   "file_extension": ".py",
   "mimetype": "text/x-python",
   "name": "python",
   "nbconvert_exporter": "python",
   "pygments_lexer": "ipython3",
   "version": "3.12.6"
  }
 },
 "nbformat": 4,
 "nbformat_minor": 2
}
