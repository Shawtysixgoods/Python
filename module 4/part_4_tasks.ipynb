{
 "cells": [
  {
   "cell_type": "markdown",
   "metadata": {},
   "source": [
    "Необходимо отсортировать первые две трети списка\n",
    "в порядке возрастания, если среднее арифметическое\n",
    "всех элементов больше нуля; иначе — лишь первую треть.\n",
    "Остальную часть списка не сортировать, а расположить\n",
    "в обратном порядке."
   ]
  },
  {
   "cell_type": "code",
   "execution_count": 5,
   "metadata": {},
   "outputs": [
    {
     "name": "stdout",
     "output_type": "stream",
     "text": [
      "[-1, 2, 3, 5, -2, 6, 4, -3]\n",
      "[-1, -2, -5, -4, -3]\n"
     ]
    }
   ],
   "source": [
    "def custom_sort(lst):\n",
    "    # Вычисляем среднее арифметическое всех элементов\n",
    "    avg = sum(lst) / len(lst) if lst else 0\n",
    "    \n",
    "    # Находим индексы разделения списка на 3 части\n",
    "    third = len(lst) // 3\n",
    "    two_thirds = 2 * third\n",
    "    \n",
    "    # Сортируем первую или две трети списка\n",
    "    if avg > 0:\n",
    "        lst[:two_thirds] = sorted(lst[:two_thirds])  # Сортируем первые две трети\n",
    "    else:\n",
    "        lst[:third] = sorted(lst[:third])  # Сортируем только первую треть\n",
    "    \n",
    "    # Остальную часть списка разворачиваем\n",
    "    lst[two_thirds:] = lst[two_thirds:][::-1]\n",
    "    \n",
    "    return lst\n",
    "\n",
    "lst1 = [3, -1, 2, 5, -3, 4, 6, -2]\n",
    "lst2 = [-1, -2, -3, -4, -5]\n",
    "\n",
    "print(custom_sort(lst1)) \n",
    "print(custom_sort(lst2))  \n"
   ]
  },
  {
   "cell_type": "markdown",
   "metadata": {},
   "source": [
    "___\n",
    "Написать программу «успеваемость». Пользователь\n",
    "вводит 10 оценок студента. Оценки от 1 до 12. Реализовать\n",
    "меню для пользователя:\n",
    "■ Вывод оценок (вывод содержимого списка);\n",
    "■ Пересдача экзамена (пользователь вводит номер элемента списка и новую оценку);\n",
    "■ Выходит ли стипендия (стипендия выходит, если\n",
    "средний бал не ниже 10.7);\n",
    "■ Вывод отсортированного списка оценок: по возрастанию или убыванию.\n"
   ]
  },
  {
   "cell_type": "code",
   "execution_count": 6,
   "metadata": {},
   "outputs": [
    {
     "name": "stdout",
     "output_type": "stream",
     "text": [
      "Введите 10 оценок студента (от 1 до 12):\n",
      "\n",
      "Меню:\n",
      "1. Вывод оценок\n",
      "2. Пересдача экзамена\n",
      "3. Проверка стипендии\n",
      "4. Сортировка оценок\n",
      "5. Выход\n",
      "Средний балл 8.20. Студент не получает стипендию.\n",
      "\n",
      "Меню:\n",
      "1. Вывод оценок\n",
      "2. Пересдача экзамена\n",
      "3. Проверка стипендии\n",
      "4. Сортировка оценок\n",
      "5. Выход\n",
      "Оценка на экзамене номер 1 была обновлена на 12.\n",
      "\n",
      "Меню:\n",
      "1. Вывод оценок\n",
      "2. Пересдача экзамена\n",
      "3. Проверка стипендии\n",
      "4. Сортировка оценок\n",
      "5. Выход\n",
      "Неверный выбор. Пожалуйста, выберите действие от 1 до 5.\n",
      "\n",
      "Меню:\n",
      "1. Вывод оценок\n",
      "2. Пересдача экзамена\n",
      "3. Проверка стипендии\n",
      "4. Сортировка оценок\n",
      "5. Выход\n",
      "До свидания!\n"
     ]
    }
   ],
   "source": [
    "def print_grades(grades):\n",
    "    print(\"Оценки студента:\", grades)\n",
    "\n",
    "def retake_exam(grades):\n",
    "    try:\n",
    "        exam_number = int(input(\"Введите номер экзамена (от 1 до 10): \")) - 1\n",
    "        if 0 <= exam_number < len(grades):\n",
    "            new_grade = int(input(\"Введите новую оценку (от 1 до 12): \"))\n",
    "            if 1 <= new_grade <= 12:\n",
    "                grades[exam_number] = new_grade\n",
    "                print(f\"Оценка на экзамене номер {exam_number + 1} была обновлена на {new_grade}.\")\n",
    "            else:\n",
    "                print(\"Неверная оценка. Оценка должна быть в пределах от 1 до 12.\")\n",
    "        else:\n",
    "            print(\"Номер экзамена вне диапазона.\")\n",
    "    except ValueError:\n",
    "        print(\"Ошибка ввода. Пожалуйста, введите правильное число.\")\n",
    "\n",
    "def check_scholarship(grades):\n",
    "    avg_grade = sum(grades) / len(grades)\n",
    "    if avg_grade >= 10.7:\n",
    "        print(f\"Средний балл {avg_grade:.2f}. Студент получает стипендию.\")\n",
    "    else:\n",
    "        print(f\"Средний балл {avg_grade:.2f}. Студент не получает стипендию.\")\n",
    "\n",
    "def sort_grades(grades):\n",
    "    order = input(\"Выберите порядок сортировки (возрастание/убывание): \").strip().lower()\n",
    "    if order == \"возрастание\":\n",
    "        grades.sort()\n",
    "    elif order == \"убывание\":\n",
    "        grades.sort(reverse=True)\n",
    "    else:\n",
    "        print(\"Неверный выбор. Оценки не отсортированы.\")\n",
    "        return\n",
    "    print(\"Оценки после сортировки:\", grades)\n",
    "\n",
    "def main():\n",
    "    grades = []\n",
    "    \n",
    "    # Вводим 10 оценок\n",
    "    print(\"Введите 10 оценок студента (от 1 до 12):\")\n",
    "    while len(grades) < 10:\n",
    "        try:\n",
    "            grade = int(input(f\"Оценка {len(grades) + 1}: \"))\n",
    "            if 1 <= grade <= 12:\n",
    "                grades.append(grade)\n",
    "            else:\n",
    "                print(\"Оценка должна быть от 1 до 12.\")\n",
    "        except ValueError:\n",
    "            print(\"Ошибка ввода. Пожалуйста, введите число.\")\n",
    "    \n",
    "    while True:\n",
    "        # Меню для пользователя\n",
    "        print(\"\\nМеню:\")\n",
    "        print(\"1. Вывод оценок\")\n",
    "        print(\"2. Пересдача экзамена\")\n",
    "        print(\"3. Проверка стипендии\")\n",
    "        print(\"4. Сортировка оценок\")\n",
    "        print(\"5. Выход\")\n",
    "\n",
    "        choice = input(\"Выберите действие (1-5): \").strip()\n",
    "\n",
    "        if choice == \"1\":\n",
    "            print_grades(grades)\n",
    "        elif choice == \"2\":\n",
    "            retake_exam(grades)\n",
    "        elif choice == \"3\":\n",
    "            check_scholarship(grades)\n",
    "        elif choice == \"4\":\n",
    "            sort_grades(grades)\n",
    "        elif choice == \"5\":\n",
    "            print(\"До свидания!\")\n",
    "            break\n",
    "        else:\n",
    "            print(\"Неверный выбор. Пожалуйста, выберите действие от 1 до 5.\")\n",
    "\n",
    "if __name__ == \"__main__\":\n",
    "    main()\n"
   ]
  },
  {
   "cell_type": "markdown",
   "metadata": {},
   "source": [
    "___\n",
    "Написать программу, реализующую сортировку списка\n",
    "методом усовершенствованной сортировки пузырьковым\n",
    "методом. Усовершенствование состоит в том, чтобы анализировать количество перестановок на каждом шагу, если\n",
    "это количество равно нулю, то продолжать сортировку\n",
    "нет смысла — список отсортирован."
   ]
  },
  {
   "cell_type": "code",
   "execution_count": 7,
   "metadata": {},
   "outputs": [
    {
     "name": "stdout",
     "output_type": "stream",
     "text": [
      "Отсортированный список: [2, 3, 4, 5, 8]\n"
     ]
    },
    {
     "ename": "",
     "evalue": "",
     "output_type": "error",
     "traceback": [
      "\u001b[1;31mПри выполнении кода в текущей ячейке или предыдущей ячейке ядро аварийно завершило работу. \n",
      "\u001b[1;31mПроверьте код в ячейках, чтобы определить возможную причину сбоя. \n",
      "\u001b[1;31mЩелкните <a href='https://aka.ms/vscodeJupyterKernelCrash'>здесь</a>, чтобы получить дополнительные сведения. \n",
      "\u001b[1;31mПодробнее см. в <a href='command:jupyter.viewOutput'>журнале Jupyter</a>."
     ]
    }
   ],
   "source": [
    "def bubble_sort_optimized(lst):\n",
    "    n = len(lst)\n",
    "    for i in range(n):\n",
    "        swapped = False  # Флаг для отслеживания перестановок\n",
    "        for j in range(n - 1 - i):  # Каждый проход сокращает размер неотсортированной части\n",
    "            if lst[j] > lst[j + 1]:  # Если элементы не в порядке, меняем их местами\n",
    "                lst[j], lst[j + 1] = lst[j + 1], lst[j]\n",
    "                swapped = True  # Было произведено изменение\n",
    "        if not swapped:  # Если за проход не было перестановок, завершаем сортировку\n",
    "            break\n",
    "    return lst\n",
    "\n",
    "lst = [5, 3, 8, 4, 2]\n",
    "sorted_lst = bubble_sort_optimized(lst)\n",
    "print(\"Отсортированный список:\", sorted_lst)\n"
   ]
  }
 ],
 "metadata": {
  "kernelspec": {
   "display_name": "Python 3",
   "language": "python",
   "name": "python3"
  },
  "language_info": {
   "codemirror_mode": {
    "name": "ipython",
    "version": 3
   },
   "file_extension": ".py",
   "mimetype": "text/x-python",
   "name": "python",
   "nbconvert_exporter": "python",
   "pygments_lexer": "ipython3",
   "version": "3.12.6"
  }
 },
 "nbformat": 4,
 "nbformat_minor": 2
}
