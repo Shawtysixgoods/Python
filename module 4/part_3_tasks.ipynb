{
 "cells": [
  {
   "cell_type": "markdown",
   "metadata": {},
   "source": [
    "Задание:\n",
    "\n",
    "Напишите функцию calculate_average, которая принимает любое количество числовых аргументов и возвращает среднее значение. Используйте *args для обработки произвольного количества аргументов. Ваша функция не должна ломаться. То есть если её вызвать без аргументов, она должна выдать что-то вроде «Вы забыли ввести числа для расчета среднего значения».\n",
    "\n",
    "Пример использования:\n",
    "\n",
    "average1 = calculate_average(1, 2, 3, 4, 5) \n",
    "print(average1) \n",
    "\n",
    "\n",
    "average2 = calculate_average(100, 20, 354) \n",
    "print(average2) \n"
   ]
  },
  {
   "cell_type": "code",
   "execution_count": 13,
   "metadata": {},
   "outputs": [
    {
     "name": "stdout",
     "output_type": "stream",
     "text": [
      "3.0\n",
      "158.0\n"
     ]
    }
   ],
   "source": [
    "def calculate_average(*args):\n",
    "    if len(args) == 0:\n",
    "        return \"Вы забыли ввести числа для расчета среднего значения\"\n",
    "    return sum(args) / len(args)\n",
    "\n",
    "# Пример использования:\n",
    "average1 = calculate_average(1, 2, 3, 4, 5)\n",
    "print(average1)\n",
    "\n",
    "average2 = calculate_average(100, 20, 354)\n",
    "print(average2) "
   ]
  },
  {
   "cell_type": "markdown",
   "metadata": {},
   "source": [
    "___\n",
    "Задача на генератор и оператор yield\n",
    "Создайте генератор, который принимает список чисел и возвращает квадраты чисел, кратных 3. Используйте оператор yield.\n",
    "\n",
    "def square_generator(numbers):\n",
    "    # Ваш код здесь\n",
    "    pass\n",
    "\n",
    "\n",
    "for square in square_generator([1, 3, 5, 6, 9]):\n",
    "    print(square)"
   ]
  },
  {
   "cell_type": "code",
   "execution_count": 14,
   "metadata": {},
   "outputs": [
    {
     "name": "stdout",
     "output_type": "stream",
     "text": [
      "9\n",
      "36\n",
      "81\n"
     ]
    }
   ],
   "source": [
    "def square_generator(numbers):\n",
    "    for number in numbers:\n",
    "        if number % 3 == 0:\n",
    "            yield number ** 2\n",
    "\n",
    "# Пример использования\n",
    "for square in square_generator([1, 3, 5, 6, 9]):\n",
    "    print(square)\n"
   ]
  },
  {
   "cell_type": "markdown",
   "metadata": {},
   "source": [
    "___\n",
    "Задача на функцию lambda\n",
    "Напишите lambda-функцию, которая принимает строку и возвращает эту строку в верхнем регистре, если она короче 5 символов, и в нижнем регистре, если она длиннее 5 символов, а если в ней ровно 5 символов, то возвращает необработанную строку.\n",
    "\n",
    "transform_string = # Ваш код здесь\n",
    "\n",
    "Пример использования\n",
    "print(transform_string(\"Hello, World!\"))   # Должно вывести: \"hello, world!\"\n",
    "print(transform_string(\"Hello\"))   # Должно вывести: \"Hello\"\n",
    "print(transform_string(\"Hi\"))      # Должно вывести: \"HI\""
   ]
  },
  {
   "cell_type": "code",
   "execution_count": 15,
   "metadata": {},
   "outputs": [
    {
     "name": "stdout",
     "output_type": "stream",
     "text": [
      "hello, world!\n",
      "Hello\n",
      "HI\n"
     ]
    }
   ],
   "source": [
    "transform_string = lambda s: s.upper() if len(s) < 5 else s.lower() if len(s) > 5 else s\n",
    "\n",
    "# Пример использования\n",
    "print(transform_string(\"Hello, World!\"))   # Должно вывести: \"hello, world!\"\n",
    "print(transform_string(\"Hello\"))   # Должно вывести: \"Hello\"\n",
    "print(transform_string(\"Hi\"))      # Должно вывести: \"HI\"\n"
   ]
  },
  {
   "cell_type": "markdown",
   "metadata": {},
   "source": [
    "___\n",
    "Задача на функции map и filter\n",
    "Создайте список целых чисел. Используя функции map и filter, напишите программу, которая оставляет только четные числа и увеличивает каждое из них на 10.\n",
    "\n",
    "numbers = [1, 2, 3, 4, 5, 6, 7, 8, 9]\n",
    "\n",
    "Ваш код здесь\n",
    "\n",
    "Пример использования\n",
    "print(new_numbers)  # Должно вывести: [12, 14, 16, 18]"
   ]
  },
  {
   "cell_type": "code",
   "execution_count": 16,
   "metadata": {},
   "outputs": [
    {
     "name": "stdout",
     "output_type": "stream",
     "text": [
      "[12, 14, 16, 18]\n"
     ]
    }
   ],
   "source": [
    "numbers = [1, 2, 3, 4, 5, 6, 7, 8, 9]\n",
    "\n",
    "# Оставляем только четные числа и увеличиваем каждое на 10\n",
    "new_numbers = list(map(lambda x: x + 10, filter(lambda x: x % 2 == 0, numbers)))\n",
    "\n",
    "# Пример использования\n",
    "print(new_numbers)  # Должно вывести: [12, 14, 16, 18]\n"
   ]
  },
  {
   "cell_type": "markdown",
   "metadata": {},
   "source": [
    "Задача на замыкания\n",
    "Напишите функцию multiply_by, которая принимает один аргумент n и возвращает функцию, которая принимает один аргумент x и возвращает результат умножения x на n. Используйте замыкание для сохранения значения n в возвращенной функции.\n",
    "\n",
    "def multiply_by(n):\n",
    "    # Ваш код здесь\n",
    "    pass\n",
    "\n",
    "Пример использования\n",
    "doubler = multiply_by(2)\n",
    "print(doubler(5))  # Должно вывести: 10\n",
    "tripler = multiply_by(3)\n",
    "print(tripler(5))  # Должно вывести: 15"
   ]
  },
  {
   "cell_type": "code",
   "execution_count": 17,
   "metadata": {},
   "outputs": [
    {
     "name": "stdout",
     "output_type": "stream",
     "text": [
      "10\n",
      "15\n"
     ]
    }
   ],
   "source": [
    "def multiply_by(n):\n",
    "    return lambda x: x * n\n",
    "\n",
    "# Пример использования\n",
    "doubler = multiply_by(2)\n",
    "print(doubler(5))  # Должно вывести: 10\n",
    "tripler = multiply_by(3)\n",
    "print(tripler(5))  # Должно вывести: 15\n"
   ]
  }
 ],
 "metadata": {
  "kernelspec": {
   "display_name": "Python 3",
   "language": "python",
   "name": "python3"
  },
  "language_info": {
   "codemirror_mode": {
    "name": "ipython",
    "version": 3
   },
   "file_extension": ".py",
   "mimetype": "text/x-python",
   "name": "python",
   "nbconvert_exporter": "python",
   "pygments_lexer": "ipython3",
   "version": "3.12.6"
  }
 },
 "nbformat": 4,
 "nbformat_minor": 2
}
