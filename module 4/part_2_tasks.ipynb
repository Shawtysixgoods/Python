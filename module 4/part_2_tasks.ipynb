{
 "cells": [
  {
   "cell_type": "markdown",
   "metadata": {},
   "source": [
    "Напишите функцию, вычисляющую произведение элементов списка целых. \n",
    "Список передаётся в качестве параметра. Полученный результат возвращается из функции."
   ]
  },
  {
   "cell_type": "code",
   "execution_count": 8,
   "metadata": {},
   "outputs": [
    {
     "name": "stdout",
     "output_type": "stream",
     "text": [
      "24\n"
     ]
    }
   ],
   "source": [
    "def list_product(numbers):\n",
    "    product = 1\n",
    "    for num in numbers:\n",
    "        product *= num\n",
    "    return product\n",
    "\n",
    "# Вызов функции\n",
    "print(list_product([1, 2, 3, 4]))  \n"
   ]
  },
  {
   "cell_type": "markdown",
   "metadata": {},
   "source": [
    "___\n",
    "Напишите функцию для нахождения минимума в списке целых. Список передаётся в качестве параметра. \n",
    "Полученный результат возвращается из функции."
   ]
  },
  {
   "cell_type": "code",
   "execution_count": 9,
   "metadata": {},
   "outputs": [
    {
     "name": "stdout",
     "output_type": "stream",
     "text": [
      "2\n"
     ]
    }
   ],
   "source": [
    "def find_minimum(numbers):\n",
    "    return min(numbers)\n",
    "\n",
    "# Вызов функции\n",
    "print(find_minimum([5, 3, 7, 2, 8]))  \n"
   ]
  },
  {
   "cell_type": "markdown",
   "metadata": {},
   "source": [
    "___\n",
    "Напишите функцию, определяющую количество простых чисел в списке целых. \n",
    "Список передаётся в качестве параметра. Полученный результат возвращается из функции."
   ]
  },
  {
   "cell_type": "code",
   "execution_count": 10,
   "metadata": {},
   "outputs": [
    {
     "name": "stdout",
     "output_type": "stream",
     "text": [
      "4\n"
     ]
    }
   ],
   "source": [
    "def is_prime(number):\n",
    "    if number < 2:\n",
    "        return False\n",
    "    for i in range(2, int(number**0.5) + 1):\n",
    "        if number % i == 0:\n",
    "            return False\n",
    "    return True\n",
    "\n",
    "def count_primes(numbers):\n",
    "    return sum(1 for num in numbers if is_prime(num))\n",
    "\n",
    "# Вызов функции\n",
    "print(count_primes([2, 3, 4, 5, 6, 7, 8, 9, 10])) \n"
   ]
  },
  {
   "cell_type": "markdown",
   "metadata": {},
   "source": [
    "___\n",
    "Напишите функцию, удаляющую из списка целых некоторое заданное число. \n",
    "Из функции нужно вернуть количество удалённых элементов."
   ]
  },
  {
   "cell_type": "code",
   "execution_count": 11,
   "metadata": {},
   "outputs": [
    {
     "name": "stdout",
     "output_type": "stream",
     "text": [
      "3\n"
     ]
    }
   ],
   "source": [
    "def remove_number(numbers, target):\n",
    "    initial_length = len(numbers)\n",
    "    numbers = [num for num in numbers if num != target]\n",
    "    return initial_length - len(numbers)\n",
    "\n",
    "# Вызов функции\n",
    "print(remove_number([1, 2, 3, 2, 4, 2], 2))  \n"
   ]
  },
  {
   "cell_type": "markdown",
   "metadata": {},
   "source": [
    "___\n",
    "Напишите функцию, которая получает два списка в качестве параметра и возвращает список, содержащий элементы обоих списков."
   ]
  },
  {
   "cell_type": "code",
   "execution_count": 12,
   "metadata": {},
   "outputs": [
    {
     "name": "stdout",
     "output_type": "stream",
     "text": [
      "[1, 2, 3, 4, 5, 6]\n"
     ]
    }
   ],
   "source": [
    "def merge_lists(list1, list2):\n",
    "    return list1 + list2\n",
    "\n",
    "# Вызов функции\n",
    "print(merge_lists([1, 2, 3], [4, 5, 6])) \n"
   ]
  },
  {
   "cell_type": "markdown",
   "metadata": {},
   "source": [
    "___\n",
    "Напишите функцию, высчитывающую степень каждого элемента списка целых. Значение для степени передаётся в качестве параметра, список тоже передаётся в качестве параметра. Функция возвращает новый список, содержащий полученные результаты."
   ]
  },
  {
   "cell_type": "code",
   "execution_count": 13,
   "metadata": {},
   "outputs": [
    {
     "name": "stdout",
     "output_type": "stream",
     "text": [
      "[1, 4, 9, 16]\n"
     ]
    },
    {
     "ename": "",
     "evalue": "",
     "output_type": "error",
     "traceback": [
      "\u001b[1;31mПри выполнении кода в текущей ячейке или предыдущей ячейке ядро аварийно завершило работу. \n",
      "\u001b[1;31mПроверьте код в ячейках, чтобы определить возможную причину сбоя. \n",
      "\u001b[1;31mЩелкните <a href='https://aka.ms/vscodeJupyterKernelCrash'>здесь</a>, чтобы получить дополнительные сведения. \n",
      "\u001b[1;31mПодробнее см. в <a href='command:jupyter.viewOutput'>журнале Jupyter</a>."
     ]
    }
   ],
   "source": [
    "def power_list(numbers, power):\n",
    "    return [num**power for num in numbers]\n",
    "\n",
    "# Вызов функции\n",
    "print(power_list([1, 2, 3, 4], 2)) \n"
   ]
  }
 ],
 "metadata": {
  "kernelspec": {
   "display_name": "Python 3",
   "language": "python",
   "name": "python3"
  },
  "language_info": {
   "codemirror_mode": {
    "name": "ipython",
    "version": 3
   },
   "file_extension": ".py",
   "mimetype": "text/x-python",
   "name": "python",
   "nbconvert_exporter": "python",
   "pygments_lexer": "ipython3",
   "version": "3.12.6"
  }
 },
 "nbformat": 4,
 "nbformat_minor": 2
}
