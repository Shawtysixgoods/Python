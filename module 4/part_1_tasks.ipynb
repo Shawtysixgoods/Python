{
 "cells": [
  {
   "cell_type": "markdown",
   "metadata": {},
   "source": [
    "Напишите функцию, которая отображает на экран форматированный текст, указанный ниже:\n",
    "\n",
    "“Don't compare yourself with anyone in this world…\n",
    "if you do so, you are insulting yourself.”\n",
    "Bill Gates"
   ]
  },
  {
   "cell_type": "code",
   "execution_count": 1,
   "metadata": {},
   "outputs": [
    {
     "name": "stdout",
     "output_type": "stream",
     "text": [
      "“Don't compare yourself with anyone in this world…\n",
      "if you do so, you are insulting yourself.”\n",
      "Bill Gates\n"
     ]
    }
   ],
   "source": [
    "def display_quote():\n",
    "    print(\"“Don't compare yourself with anyone in this world…\")\n",
    "    print(\"if you do so, you are insulting yourself.”\")\n",
    "    print(\"Bill Gates\")\n",
    "\n",
    "# Вызов функции\n",
    "display_quote()\n"
   ]
  },
  {
   "cell_type": "markdown",
   "metadata": {},
   "source": [
    "Напишите функцию, которая принимает два числа в качестве параметра и отображает все четные числа между ними."
   ]
  },
  {
   "cell_type": "code",
   "execution_count": 2,
   "metadata": {},
   "outputs": [
    {
     "name": "stdout",
     "output_type": "stream",
     "text": [
      "4 6 8 10 12 14 \n"
     ]
    }
   ],
   "source": [
    "def display_even_numbers(start, end):\n",
    "    for num in range(min(start, end), max(start, end) + 1):\n",
    "        if num % 2 == 0:\n",
    "            print(num, end=\" \")\n",
    "    print()\n",
    "\n",
    "# Вызов функции\n",
    "display_even_numbers(3, 15)"
   ]
  },
  {
   "cell_type": "markdown",
   "metadata": {},
   "source": [
    "Напишите функцию, которая отображает пустой или заполненный квадрат из некоторого символа.\n",
    "Функция принимает в качестве параметров: длину стороны квадрата, символ и переменную логического типа:\n",
    "\n",
    "если она равна True, квадрат заполненный;\n",
    "если False, квадрат пустой."
   ]
  },
  {
   "cell_type": "code",
   "execution_count": 3,
   "metadata": {},
   "outputs": [
    {
     "name": "stdout",
     "output_type": "stream",
     "text": [
      "*****\n",
      "*****\n",
      "*****\n",
      "*****\n",
      "*****\n",
      "#####\n",
      "#   #\n",
      "#   #\n",
      "#   #\n",
      "#####\n"
     ]
    }
   ],
   "source": [
    "def display_square(size, symbol, filled):\n",
    "    for i in range(size):\n",
    "        if i == 0 or i == size - 1 or filled:\n",
    "            print(symbol * size)\n",
    "        else:\n",
    "            print(symbol + \" \" * (size - 2) + symbol)\n",
    "\n",
    "# Вызов функции\n",
    "display_square(5, '*', True)  # Заполненный квадрат\n",
    "display_square(5, '#', False)  # Пустой квадрат\n"
   ]
  },
  {
   "cell_type": "markdown",
   "metadata": {},
   "source": [
    "Напишите функцию, которая возвращает минимальное из пяти чисел.\n",
    "Числа передаются в качестве параметров."
   ]
  },
  {
   "cell_type": "code",
   "execution_count": 4,
   "metadata": {},
   "outputs": [
    {
     "name": "stdout",
     "output_type": "stream",
     "text": [
      "5\n"
     ]
    }
   ],
   "source": [
    "def find_minimum(a, b, c, d, e):\n",
    "    return min(a, b, c, d, e)\n",
    "\n",
    "# Вызов функции\n",
    "print(find_minimum(10, 20, 5, 8, 15))  # Результат: 5\n"
   ]
  },
  {
   "cell_type": "markdown",
   "metadata": {},
   "source": [
    "Напишите функцию, которая возвращает произведение чисел в указанном диапазоне.\n",
    "Границы диапазона передаются в качестве параметров. Если границы диапазона \n",
    "указаны неправильно (верхняя граница меньше нижней границы), их нужно поменять местами."
   ]
  },
  {
   "cell_type": "code",
   "execution_count": 5,
   "metadata": {},
   "outputs": [
    {
     "name": "stdout",
     "output_type": "stream",
     "text": [
      "60\n",
      "60\n"
     ]
    }
   ],
   "source": [
    "def range_product(start, end):\n",
    "    if start > end:\n",
    "        start, end = end, start\n",
    "    product = 1\n",
    "    for num in range(start, end + 1):\n",
    "        product *= num\n",
    "    return product\n",
    "\n",
    "# Вызов функции\n",
    "print(range_product(3, 5))  # Результат: 60 (3 * 4 * 5)\n",
    "print(range_product(5, 3))  # Результат: 60 (перестановка границ)\n"
   ]
  },
  {
   "cell_type": "markdown",
   "metadata": {},
   "source": [
    "Напишите функцию, которая считает количество цифр в числе.\n",
    "Число передаётся в качестве параметра. Из функции нужно вернуть полученное количество цифр.\n",
    "Например, если передали 3456, количество цифр будет 4."
   ]
  },
  {
   "cell_type": "code",
   "execution_count": 6,
   "metadata": {},
   "outputs": [
    {
     "name": "stdout",
     "output_type": "stream",
     "text": [
      "4\n",
      "5\n"
     ]
    }
   ],
   "source": [
    "def count_digits(number):\n",
    "    return len(str(abs(number)))\n",
    "\n",
    "# Вызов функции\n",
    "print(count_digits(3456))  # Результат: 4\n",
    "print(count_digits(-12345))  # Результат: 5\n"
   ]
  },
  {
   "cell_type": "markdown",
   "metadata": {},
   "source": [
    "Напишите функцию, которая проверяет, является ли число палиндромом.\n",
    "Число передаётся в качестве параметра. Если число палиндром, нужно вернуть из функции true, иначе false.\n",
    "\n",
    "«Палиндром» — это число, у которого первая часть цифр равна второй перевёрнутой части цифр.\n",
    "Например, 123321 — палиндром (первая часть 123, вторая 321, которая после переворота становится 123),\n",
    "546645 — палиндром, а 421987 — не палиндром."
   ]
  },
  {
   "cell_type": "code",
   "execution_count": 7,
   "metadata": {},
   "outputs": [
    {
     "name": "stdout",
     "output_type": "stream",
     "text": [
      "True\n",
      "True\n",
      "False\n"
     ]
    }
   ],
   "source": [
    "def is_palindrome(number):\n",
    "    str_num = str(number)\n",
    "    return str_num == str_num[::-1]\n",
    "\n",
    "# Вызов функции\n",
    "print(is_palindrome(123321))  # Результат: True\n",
    "print(is_palindrome(546645))  # Результат: True\n",
    "print(is_palindrome(421987))  # Результат: False\n"
   ]
  }
 ],
 "metadata": {
  "kernelspec": {
   "display_name": "Python 3",
   "language": "python",
   "name": "python3"
  },
  "language_info": {
   "codemirror_mode": {
    "name": "ipython",
    "version": 3
   },
   "file_extension": ".py",
   "mimetype": "text/x-python",
   "name": "python",
   "nbconvert_exporter": "python",
   "pygments_lexer": "ipython3",
   "version": "3.12.6"
  }
 },
 "nbformat": 4,
 "nbformat_minor": 2
}
