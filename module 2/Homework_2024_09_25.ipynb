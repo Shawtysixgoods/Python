{
 "cells": [
  {
   "cell_type": "markdown",
   "metadata": {},
   "source": [
    "### Сортировка файлов по размеру\n",
    "\n",
    "Напишите программу, которая сортирует файлы в данной директории по размеру (от меньшего к большему). Для этого неплохо было бы несколько файлов или создать вручную, если в директории с этой тетрадкой кроме нее ничего нет, либо перенести несколько случайных файлов в нее, после чего можно будет проверить работу кода. По итогу вы должны вывести список файлов директории с заданным ранее условием"
   ]
  },
  {
   "cell_type": "code",
   "execution_count": 3,
   "metadata": {},
   "outputs": [
    {
     "data": {
      "text/plain": [
       "[('Homework_2024_09_25.ipynb', 4643)]"
      ]
     },
     "execution_count": 3,
     "metadata": {},
     "output_type": "execute_result"
    }
   ],
   "source": [
    "import os\n",
    "\n",
    "# Сортируем файлы по размеру\n",
    "sorted_files = sorted([(f, os.path.getsize(f)) for f in os.listdir() if os.path.isfile(f)], key=lambda x: x[1])\n",
    "\n",
    "# Выводим отсортированные файлы\n",
    "sorted_files"
   ]
  },
  {
   "cell_type": "markdown",
   "metadata": {},
   "source": [
    "### Создание директорий\n",
    "\n",
    "Напишите программу, которая создает серию вложенных директорий с использованием цикла. Например, создать директорию \"А\", в которой будет лежать директория \"B\", в которой будет лежать директория \"C\" (названия директорий латиницей). В конце вы должны вывести, что содержится в каждой из этих директорий"
   ]
  },
  {
   "cell_type": "code",
   "execution_count": 4,
   "metadata": {},
   "outputs": [
    {
     "name": "stdout",
     "output_type": "stream",
     "text": [
      "В директории A содержится: ['B']\n",
      "В директории A\\B содержится: ['C']\n",
      "В директории A\\B\\C содержится: Ничего\n"
     ]
    }
   ],
   "source": [
    "import os\n",
    "\n",
    "# Создаем серию вложенных директорий\n",
    "base_dir = \"A\"\n",
    "os.makedirs(os.path.join(base_dir, \"B\", \"C\"), exist_ok=True)\n",
    "\n",
    "# Проходим по всем директориям и выводим их содержимое\n",
    "for root, dirs, files in os.walk(base_dir):\n",
    "    print(f'В директории {root} содержится: {dirs if dirs else \"Ничего\"}')"
   ]
  },
  {
   "cell_type": "markdown",
   "metadata": {},
   "source": [
    "### Поиск файлов по расширению\n",
    "\n",
    "Напишите программу, которая выводит имена всех файлов с расширением, например, \".txt\" в определенной директории и всех поддиректориях"
   ]
  },
  {
   "cell_type": "code",
   "execution_count": 7,
   "metadata": {},
   "outputs": [
    {
     "data": {
      "text/plain": [
       "['.\\\\Homework_2024_09_25.ipynb']"
      ]
     },
     "execution_count": 7,
     "metadata": {},
     "output_type": "execute_result"
    }
   ],
   "source": [
    "import os\n",
    "\n",
    "# Ищем и выводим все файлы с расширением \".txt\" в директории и поддиректориях\n",
    "txt_files = [os.path.join(root, f) for root, dirs, files in os.walk('.') for f in files if f.endswith('.ipynb')]\n",
    "\n",
    "# Вывод списка найденных файлов\n",
    "txt_files"
   ]
  },
  {
   "cell_type": "markdown",
   "metadata": {},
   "source": [
    "### Получение информации о файле\n",
    "\n",
    "Напишите программу, которая выводит информацию о файле: имя, размер, дату модификации, тип файла (файл/директория)"
   ]
  },
  {
   "cell_type": "code",
   "execution_count": 9,
   "metadata": {},
   "outputs": [
    {
     "data": {
      "text/plain": [
       "[('A', 0, 'Wed Oct 23 21:09:16 2024', 'Директория'),\n",
       " ('Homework_2024_09_25.ipynb', 8057, 'Wed Oct 23 21:13:28 2024', 'Файл')]"
      ]
     },
     "execution_count": 9,
     "metadata": {},
     "output_type": "execute_result"
    }
   ],
   "source": [
    "import os\n",
    "import time  \n",
    "\n",
    "# программа для вывода информации о файле\n",
    "# Оно работает, не трогаем.\n",
    "file_info_short = [(f, os.path.getsize(f), time.ctime(os.path.getmtime(f)), \"Директория\" if os.path.isdir(f) else \"Файл\") for f in os.listdir()]\n",
    "\n",
    "# Вывод списка файлов с информацией\n",
    "file_info_short"
   ]
  },
  {
   "cell_type": "markdown",
   "metadata": {},
   "source": [
    "### Проверка e-mail адреса\n",
    "\n",
    "Напишите программу, которая запрашивает у пользователя ввести e-mail адрес и проверяет введенную строку с помощью регулярных выражений, является ли она типовым e-mail адресом. В случае, если да, программа должны вывести \"Всё верно\", если же нет, то \"Вы допустили ошибку в e-mail адресе\""
   ]
  },
  {
   "cell_type": "code",
   "execution_count": 1,
   "metadata": {},
   "outputs": [
    {
     "name": "stdout",
     "output_type": "stream",
     "text": [
      "Всё верно\n"
     ]
    }
   ],
   "source": [
    "import re\n",
    "\n",
    "email = \"example@example.com\"  # Здесь заменить на email = input() при необходимости\n",
    "\n",
    "print(\"Всё верно\" if re.match(r\"^[\\w\\.-]+@[\\w\\.-]+\\.\\w+$\", email) else \"Вы допустили ошибку в e-mail адресе\")"
   ]
  }
 ],
 "metadata": {
  "kernelspec": {
   "display_name": "Python 3",
   "language": "python",
   "name": "python3"
  },
  "language_info": {
   "codemirror_mode": {
    "name": "ipython",
    "version": 3
   },
   "file_extension": ".py",
   "mimetype": "text/x-python",
   "name": "python",
   "nbconvert_exporter": "python",
   "pygments_lexer": "ipython3",
   "version": "3.12.6"
  }
 },
 "nbformat": 4,
 "nbformat_minor": 2
}
